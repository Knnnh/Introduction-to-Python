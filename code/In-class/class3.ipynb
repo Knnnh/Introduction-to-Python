{
 "cells": [
  {
   "cell_type": "code",
   "execution_count": 1,
   "metadata": {},
   "outputs": [],
   "source": [
    "mixed_elements = [1, 3 , 9, \"abba\", \"the\", \"beatles\"]"
   ]
  },
  {
   "cell_type": "code",
   "execution_count": 2,
   "metadata": {},
   "outputs": [],
   "source": [
    "mixed_elements[0] = str(mixed_elements[0])"
   ]
  },
  {
   "cell_type": "code",
   "execution_count": 3,
   "metadata": {},
   "outputs": [
    {
     "data": {
      "text/plain": [
       "['1', 3, 9, 'abba', 'the', 'beatles']"
      ]
     },
     "execution_count": 3,
     "metadata": {},
     "output_type": "execute_result"
    }
   ],
   "source": [
    "mixed_elements"
   ]
  },
  {
   "cell_type": "code",
   "execution_count": 4,
   "metadata": {},
   "outputs": [],
   "source": [
    "my_str = \"abba was a swedish band\""
   ]
  },
  {
   "cell_type": "code",
   "execution_count": 5,
   "metadata": {},
   "outputs": [
    {
     "data": {
      "text/plain": [
       "'a'"
      ]
     },
     "execution_count": 5,
     "metadata": {},
     "output_type": "execute_result"
    }
   ],
   "source": [
    "my_str[0]"
   ]
  },
  {
   "cell_type": "code",
   "execution_count": 6,
   "metadata": {},
   "outputs": [
    {
     "ename": "TypeError",
     "evalue": "'str' object does not support item assignment",
     "output_type": "error",
     "traceback": [
      "\u001b[0;31m---------------------------------------------------------------------------\u001b[0m",
      "\u001b[0;31mTypeError\u001b[0m                                 Traceback (most recent call last)",
      "\u001b[0;32m<ipython-input-6-be4e37311b63>\u001b[0m in \u001b[0;36m<module>\u001b[0;34m\u001b[0m\n\u001b[0;32m----> 1\u001b[0;31m \u001b[0mmy_str\u001b[0m\u001b[0;34m[\u001b[0m\u001b[0;36m0\u001b[0m\u001b[0;34m]\u001b[0m \u001b[0;34m=\u001b[0m \u001b[0;34m'A'\u001b[0m\u001b[0;34m\u001b[0m\u001b[0;34m\u001b[0m\u001b[0m\n\u001b[0m",
      "\u001b[0;31mTypeError\u001b[0m: 'str' object does not support item assignment"
     ]
    }
   ],
   "source": [
    "my_str[0] = 'A'"
   ]
  },
  {
   "cell_type": "code",
   "execution_count": 7,
   "metadata": {},
   "outputs": [],
   "source": [
    "mixed_elements[1] = str(2)"
   ]
  },
  {
   "cell_type": "code",
   "execution_count": 8,
   "metadata": {},
   "outputs": [
    {
     "data": {
      "text/plain": [
       "['1', '2', 9, 'abba', 'the', 'beatles']"
      ]
     },
     "execution_count": 8,
     "metadata": {},
     "output_type": "execute_result"
    }
   ],
   "source": [
    "mixed_elements"
   ]
  },
  {
   "cell_type": "code",
   "execution_count": 9,
   "metadata": {},
   "outputs": [
    {
     "ename": "TypeError",
     "evalue": "'str' object does not support item assignment",
     "output_type": "error",
     "traceback": [
      "\u001b[0;31m---------------------------------------------------------------------------\u001b[0m",
      "\u001b[0;31mTypeError\u001b[0m                                 Traceback (most recent call last)",
      "\u001b[0;32m<ipython-input-9-35373a3f8a19>\u001b[0m in \u001b[0;36m<module>\u001b[0;34m\u001b[0m\n\u001b[0;32m----> 1\u001b[0;31m \u001b[0mmy_str\u001b[0m\u001b[0;34m[\u001b[0m\u001b[0;36m1\u001b[0m\u001b[0;34m]\u001b[0m \u001b[0;34m=\u001b[0m \u001b[0mstr\u001b[0m\u001b[0;34m(\u001b[0m\u001b[0;36m2\u001b[0m\u001b[0;34m)\u001b[0m\u001b[0;34m\u001b[0m\u001b[0;34m\u001b[0m\u001b[0m\n\u001b[0m",
      "\u001b[0;31mTypeError\u001b[0m: 'str' object does not support item assignment"
     ]
    }
   ],
   "source": [
    "my_str[1] = str(2)"
   ]
  },
  {
   "cell_type": "code",
   "execution_count": 10,
   "metadata": {},
   "outputs": [],
   "source": [
    "phone_book = {'jack': 4321, 'rose': 8798}"
   ]
  },
  {
   "cell_type": "code",
   "execution_count": 11,
   "metadata": {},
   "outputs": [
    {
     "name": "stdout",
     "output_type": "stream",
     "text": [
      "{'jack': 4321, 'rose': 8798}\n"
     ]
    }
   ],
   "source": [
    "print(phone_book)"
   ]
  },
  {
   "cell_type": "code",
   "execution_count": 12,
   "metadata": {},
   "outputs": [
    {
     "data": {
      "text/plain": [
       "dict"
      ]
     },
     "execution_count": 12,
     "metadata": {},
     "output_type": "execute_result"
    }
   ],
   "source": [
    "type(phone_book)"
   ]
  },
  {
   "cell_type": "code",
   "execution_count": 13,
   "metadata": {},
   "outputs": [
    {
     "data": {
      "text/plain": [
       "4321"
      ]
     },
     "execution_count": 13,
     "metadata": {},
     "output_type": "execute_result"
    }
   ],
   "source": [
    "phone_book['jack']"
   ]
  },
  {
   "cell_type": "code",
   "execution_count": 14,
   "metadata": {},
   "outputs": [
    {
     "ename": "KeyError",
     "evalue": "'jak'",
     "output_type": "error",
     "traceback": [
      "\u001b[0;31m---------------------------------------------------------------------------\u001b[0m",
      "\u001b[0;31mKeyError\u001b[0m                                  Traceback (most recent call last)",
      "\u001b[0;32m<ipython-input-14-b65b2cfe7f1d>\u001b[0m in \u001b[0;36m<module>\u001b[0;34m\u001b[0m\n\u001b[0;32m----> 1\u001b[0;31m \u001b[0mphone_book\u001b[0m\u001b[0;34m[\u001b[0m\u001b[0;34m'jak'\u001b[0m\u001b[0;34m]\u001b[0m\u001b[0;34m\u001b[0m\u001b[0;34m\u001b[0m\u001b[0m\n\u001b[0m",
      "\u001b[0;31mKeyError\u001b[0m: 'jak'"
     ]
    }
   ],
   "source": [
    "phone_book['jak']"
   ]
  },
  {
   "cell_type": "code",
   "execution_count": 15,
   "metadata": {},
   "outputs": [],
   "source": [
    "phone_book['jak'] = 7645"
   ]
  },
  {
   "cell_type": "code",
   "execution_count": 16,
   "metadata": {},
   "outputs": [],
   "source": [
    "phone_book['jacques'] = 3398768"
   ]
  },
  {
   "cell_type": "code",
   "execution_count": 17,
   "metadata": {},
   "outputs": [
    {
     "data": {
      "text/plain": [
       "{'jack': 4321, 'rose': 8798, 'jak': 7645, 'jacques': 3398768}"
      ]
     },
     "execution_count": 17,
     "metadata": {},
     "output_type": "execute_result"
    }
   ],
   "source": [
    "phone_book"
   ]
  },
  {
   "cell_type": "code",
   "execution_count": 18,
   "metadata": {},
   "outputs": [
    {
     "ename": "NameError",
     "evalue": "name 'phone' is not defined",
     "output_type": "error",
     "traceback": [
      "\u001b[0;31m---------------------------------------------------------------------------\u001b[0m",
      "\u001b[0;31mNameError\u001b[0m                                 Traceback (most recent call last)",
      "\u001b[0;32m<ipython-input-18-d8495be442a8>\u001b[0m in \u001b[0;36m<module>\u001b[0;34m\u001b[0m\n\u001b[0;32m----> 1\u001b[0;31m \u001b[0;32mdel\u001b[0m \u001b[0mphone\u001b[0m\u001b[0;34m[\u001b[0m\u001b[0;34m'rose'\u001b[0m\u001b[0;34m]\u001b[0m\u001b[0;34m\u001b[0m\u001b[0;34m\u001b[0m\u001b[0m\n\u001b[0m",
      "\u001b[0;31mNameError\u001b[0m: name 'phone' is not defined"
     ]
    }
   ],
   "source": [
    "del phone['rose']"
   ]
  },
  {
   "cell_type": "code",
   "execution_count": 19,
   "metadata": {},
   "outputs": [],
   "source": [
    "del phone_book['rose']"
   ]
  },
  {
   "cell_type": "code",
   "execution_count": 20,
   "metadata": {},
   "outputs": [
    {
     "data": {
      "text/plain": [
       "{'jack': 4321, 'jak': 7645, 'jacques': 3398768}"
      ]
     },
     "execution_count": 20,
     "metadata": {},
     "output_type": "execute_result"
    }
   ],
   "source": [
    "phone_book"
   ]
  },
  {
   "cell_type": "code",
   "execution_count": 21,
   "metadata": {},
   "outputs": [
    {
     "data": {
      "text/plain": [
       "dict_keys(['jack', 'jak', 'jacques'])"
      ]
     },
     "execution_count": 21,
     "metadata": {},
     "output_type": "execute_result"
    }
   ],
   "source": [
    "phone_book.keys()"
   ]
  },
  {
   "cell_type": "code",
   "execution_count": 22,
   "metadata": {},
   "outputs": [
    {
     "data": {
      "text/plain": [
       "dict_values([4321, 7645, 3398768])"
      ]
     },
     "execution_count": 22,
     "metadata": {},
     "output_type": "execute_result"
    }
   ],
   "source": [
    "phone_book.values()"
   ]
  },
  {
   "cell_type": "code",
   "execution_count": 23,
   "metadata": {},
   "outputs": [
    {
     "data": {
      "text/plain": [
       "False"
      ]
     },
     "execution_count": 23,
     "metadata": {},
     "output_type": "execute_result"
    }
   ],
   "source": [
    "'rose' in phone_book"
   ]
  },
  {
   "cell_type": "code",
   "execution_count": 24,
   "metadata": {},
   "outputs": [
    {
     "data": {
      "text/plain": [
       "True"
      ]
     },
     "execution_count": 24,
     "metadata": {},
     "output_type": "execute_result"
    }
   ],
   "source": [
    "'jack' in phone_book "
   ]
  },
  {
   "cell_type": "code",
   "execution_count": 25,
   "metadata": {},
   "outputs": [
    {
     "data": {
      "text/plain": [
       "True"
      ]
     },
     "execution_count": 25,
     "metadata": {},
     "output_type": "execute_result"
    }
   ],
   "source": [
    "'the' in mixed_elements"
   ]
  },
  {
   "cell_type": "code",
   "execution_count": 26,
   "metadata": {},
   "outputs": [
    {
     "data": {
      "text/plain": [
       "True"
      ]
     },
     "execution_count": 26,
     "metadata": {},
     "output_type": "execute_result"
    }
   ],
   "source": [
    "'abba' in my_str"
   ]
  },
  {
   "cell_type": "code",
   "execution_count": 27,
   "metadata": {},
   "outputs": [
    {
     "data": {
      "text/plain": [
       "False"
      ]
     },
     "execution_count": 27,
     "metadata": {},
     "output_type": "execute_result"
    }
   ],
   "source": [
    "1 in mixed_elements"
   ]
  },
  {
   "cell_type": "code",
   "execution_count": 28,
   "metadata": {},
   "outputs": [
    {
     "data": {
      "text/plain": [
       "True"
      ]
     },
     "execution_count": 28,
     "metadata": {},
     "output_type": "execute_result"
    }
   ],
   "source": [
    "\"1\" in mixed_elements"
   ]
  },
  {
   "cell_type": "code",
   "execution_count": 29,
   "metadata": {},
   "outputs": [
    {
     "data": {
      "text/plain": [
       "['1', '2', 9, 'abba', 'the', 'beatles']"
      ]
     },
     "execution_count": 29,
     "metadata": {},
     "output_type": "execute_result"
    }
   ],
   "source": [
    "mixed_elements"
   ]
  },
  {
   "cell_type": "code",
   "execution_count": 30,
   "metadata": {},
   "outputs": [],
   "source": [
    "mixed_elements[2] = str(mixed_elements[2])"
   ]
  },
  {
   "cell_type": "code",
   "execution_count": 31,
   "metadata": {},
   "outputs": [
    {
     "data": {
      "text/plain": [
       "['1', '2', '9', 'abba', 'the', 'beatles']"
      ]
     },
     "execution_count": 31,
     "metadata": {},
     "output_type": "execute_result"
    }
   ],
   "source": [
    "mixed_elements"
   ]
  },
  {
   "cell_type": "code",
   "execution_count": 32,
   "metadata": {},
   "outputs": [],
   "source": [
    "mixed_elements[2] = \"2\""
   ]
  },
  {
   "cell_type": "code",
   "execution_count": 33,
   "metadata": {},
   "outputs": [
    {
     "data": {
      "text/plain": [
       "['1', '2', '2', 'abba', 'the', 'beatles']"
      ]
     },
     "execution_count": 33,
     "metadata": {},
     "output_type": "execute_result"
    }
   ],
   "source": [
    "mixed_elements"
   ]
  },
  {
   "cell_type": "code",
   "execution_count": 34,
   "metadata": {},
   "outputs": [],
   "source": [
    "from collections import Counter"
   ]
  },
  {
   "cell_type": "code",
   "execution_count": 35,
   "metadata": {},
   "outputs": [
    {
     "data": {
      "text/plain": [
       "Counter({'1': 1, '2': 2, 'abba': 1, 'the': 1, 'beatles': 1})"
      ]
     },
     "execution_count": 35,
     "metadata": {},
     "output_type": "execute_result"
    }
   ],
   "source": [
    "Counter(mixed_elements)"
   ]
  },
  {
   "cell_type": "code",
   "execution_count": 36,
   "metadata": {},
   "outputs": [],
   "source": [
    "mixed_dictionary = Counter(mixed_elements)"
   ]
  },
  {
   "cell_type": "code",
   "execution_count": 37,
   "metadata": {},
   "outputs": [
    {
     "data": {
      "text/plain": [
       "Counter({'1': 1, '2': 2, 'abba': 1, 'the': 1, 'beatles': 1})"
      ]
     },
     "execution_count": 37,
     "metadata": {},
     "output_type": "execute_result"
    }
   ],
   "source": [
    "mixed_dictionary"
   ]
  },
  {
   "cell_type": "code",
   "execution_count": 38,
   "metadata": {},
   "outputs": [
    {
     "data": {
      "text/plain": [
       "collections.Counter"
      ]
     },
     "execution_count": 38,
     "metadata": {},
     "output_type": "execute_result"
    }
   ],
   "source": [
    "type(mixed_dictionary)"
   ]
  },
  {
   "cell_type": "code",
   "execution_count": 39,
   "metadata": {},
   "outputs": [],
   "source": [
    "first_paragraph = \"The Grand Budapest Hotel is a 2014 comedy-drama film written and directed by Wes Anderson. Ralph Fiennes leads a seventeen-actor ensemble cast as Monsieur Gustave H., famed concierge of a twentieth-century mountainside resort in the fictional country of Zubrowka. When Gustave is framed for the murder of a wealthy dowager (Tilda Swinton), he and his recently befriended protégé Zero (Tony Revolori) embark on a quest for fortune and a priceless Renaissance painting amidst the backdrop of an encroaching fascist regime. Anderson's American Empirical Pictures produced the film in association with Studio Babelsberg, Fox Searchlight Pictures, and Indian Paintbrush's Scott Rudin and Steven Rales. Fox Searchlight supervised the commercial distribution, and The Grand Budapest Hotel's funding was sourced through Indian Paintbrush and German government-funded tax rebates.Anderson and longtime collaborator Hugo Guinness conceived The Grand Budapest Hotel as a fragmented tale following a character inspired by a common friend. They initially struggled in their brainstorming, but the experience touring Europe and researching the literature of Austrian novelist Stefan Zweig shaped their vision for the film. The Grand Budapest Hotel draws visually from Europe-set mid-century Hollywood films and the Library of Congress's photochrom print collection of alpine resorts. Principal photography took place in eastern Germany from January to March 2013. French composer Alexandre Desplat composed the symphonic, Russian folk-inspired score, which expanded on his early work with Anderson. The film explores themes of fascism, nostalgia, friendship, and loyalty, and further studies emphasize the function of color as an important storytelling device. The Grand Budapest Hotel premiered in competition at the 64th Berlin International Film Festival on February 6, 2014. The French theatrical release on February 26 preceded the film's global rollout, followed by releases in Germany, North America, and the United Kingdom on March 6–7. The Grand Budapest Hotel received widespread acclaim for its craftsmanship, acting, and comedy; occasional criticism centered on the film's approach to the subject matter, fragmented storytelling, and characterization. It earned US$172.9 million in box office revenue worldwide, Anderson's highest grossing feature to date. The film led the 87th Academy Awards season with nine nominations (winning four), and earned several other accolades, chiefly for writing and technical achievement.\"\n",
    "first_paragraph_words = first_paragraph.split(\" \")\n",
    "dict_first_paragraph = Counter(first_paragraph_words)"
   ]
  },
  {
   "cell_type": "code",
   "execution_count": 40,
   "metadata": {},
   "outputs": [
    {
     "data": {
      "text/plain": [
       "Counter({'The': 9,\n",
       "         'Grand': 6,\n",
       "         'Budapest': 6,\n",
       "         'Hotel': 5,\n",
       "         'is': 2,\n",
       "         'a': 9,\n",
       "         '2014': 1,\n",
       "         'comedy-drama': 1,\n",
       "         'film': 4,\n",
       "         'written': 1,\n",
       "         'and': 17,\n",
       "         'directed': 1,\n",
       "         'by': 3,\n",
       "         'Wes': 1,\n",
       "         'Anderson.': 2,\n",
       "         'Ralph': 1,\n",
       "         'Fiennes': 1,\n",
       "         'leads': 1,\n",
       "         'seventeen-actor': 1,\n",
       "         'ensemble': 1,\n",
       "         'cast': 1,\n",
       "         'as': 3,\n",
       "         'Monsieur': 1,\n",
       "         'Gustave': 2,\n",
       "         'H.,': 1,\n",
       "         'famed': 1,\n",
       "         'concierge': 1,\n",
       "         'of': 9,\n",
       "         'twentieth-century': 1,\n",
       "         'mountainside': 1,\n",
       "         'resort': 1,\n",
       "         'in': 7,\n",
       "         'the': 17,\n",
       "         'fictional': 1,\n",
       "         'country': 1,\n",
       "         'Zubrowka.': 1,\n",
       "         'When': 1,\n",
       "         'framed': 1,\n",
       "         'for': 5,\n",
       "         'murder': 1,\n",
       "         'wealthy': 1,\n",
       "         'dowager': 1,\n",
       "         '(Tilda': 1,\n",
       "         'Swinton),': 1,\n",
       "         'he': 1,\n",
       "         'his': 2,\n",
       "         'recently': 1,\n",
       "         'befriended': 1,\n",
       "         'protégé': 1,\n",
       "         'Zero': 1,\n",
       "         '(Tony': 1,\n",
       "         'Revolori)': 1,\n",
       "         'embark': 1,\n",
       "         'on': 6,\n",
       "         'quest': 1,\n",
       "         'fortune': 1,\n",
       "         'priceless': 1,\n",
       "         'Renaissance': 1,\n",
       "         'painting': 1,\n",
       "         'amidst': 1,\n",
       "         'backdrop': 1,\n",
       "         'an': 2,\n",
       "         'encroaching': 1,\n",
       "         'fascist': 1,\n",
       "         'regime.': 1,\n",
       "         \"Anderson's\": 2,\n",
       "         'American': 1,\n",
       "         'Empirical': 1,\n",
       "         'Pictures': 1,\n",
       "         'produced': 1,\n",
       "         'association': 1,\n",
       "         'with': 3,\n",
       "         'Studio': 1,\n",
       "         'Babelsberg,': 1,\n",
       "         'Fox': 2,\n",
       "         'Searchlight': 2,\n",
       "         'Pictures,': 1,\n",
       "         'Indian': 2,\n",
       "         \"Paintbrush's\": 1,\n",
       "         'Scott': 1,\n",
       "         'Rudin': 1,\n",
       "         'Steven': 1,\n",
       "         'Rales.': 1,\n",
       "         'supervised': 1,\n",
       "         'commercial': 1,\n",
       "         'distribution,': 1,\n",
       "         \"Hotel's\": 1,\n",
       "         'funding': 1,\n",
       "         'was': 1,\n",
       "         'sourced': 1,\n",
       "         'through': 1,\n",
       "         'Paintbrush': 1,\n",
       "         'German': 1,\n",
       "         'government-funded': 1,\n",
       "         'tax': 1,\n",
       "         'rebates.Anderson': 1,\n",
       "         'longtime': 1,\n",
       "         'collaborator': 1,\n",
       "         'Hugo': 1,\n",
       "         'Guinness': 1,\n",
       "         'conceived': 1,\n",
       "         'fragmented': 2,\n",
       "         'tale': 1,\n",
       "         'following': 1,\n",
       "         'character': 1,\n",
       "         'inspired': 1,\n",
       "         'common': 1,\n",
       "         'friend.': 1,\n",
       "         'They': 1,\n",
       "         'initially': 1,\n",
       "         'struggled': 1,\n",
       "         'their': 2,\n",
       "         'brainstorming,': 1,\n",
       "         'but': 1,\n",
       "         'experience': 1,\n",
       "         'touring': 1,\n",
       "         'Europe': 1,\n",
       "         'researching': 1,\n",
       "         'literature': 1,\n",
       "         'Austrian': 1,\n",
       "         'novelist': 1,\n",
       "         'Stefan': 1,\n",
       "         'Zweig': 1,\n",
       "         'shaped': 1,\n",
       "         'vision': 1,\n",
       "         'film.': 1,\n",
       "         'draws': 1,\n",
       "         'visually': 1,\n",
       "         'from': 2,\n",
       "         'Europe-set': 1,\n",
       "         'mid-century': 1,\n",
       "         'Hollywood': 1,\n",
       "         'films': 1,\n",
       "         'Library': 1,\n",
       "         \"Congress's\": 1,\n",
       "         'photochrom': 1,\n",
       "         'print': 1,\n",
       "         'collection': 1,\n",
       "         'alpine': 1,\n",
       "         'resorts.': 1,\n",
       "         'Principal': 1,\n",
       "         'photography': 1,\n",
       "         'took': 1,\n",
       "         'place': 1,\n",
       "         'eastern': 1,\n",
       "         'Germany': 1,\n",
       "         'January': 1,\n",
       "         'to': 3,\n",
       "         'March': 2,\n",
       "         '2013.': 1,\n",
       "         'French': 2,\n",
       "         'composer': 1,\n",
       "         'Alexandre': 1,\n",
       "         'Desplat': 1,\n",
       "         'composed': 1,\n",
       "         'symphonic,': 1,\n",
       "         'Russian': 1,\n",
       "         'folk-inspired': 1,\n",
       "         'score,': 1,\n",
       "         'which': 1,\n",
       "         'expanded': 1,\n",
       "         'early': 1,\n",
       "         'work': 1,\n",
       "         'explores': 1,\n",
       "         'themes': 1,\n",
       "         'fascism,': 1,\n",
       "         'nostalgia,': 1,\n",
       "         'friendship,': 1,\n",
       "         'loyalty,': 1,\n",
       "         'further': 1,\n",
       "         'studies': 1,\n",
       "         'emphasize': 1,\n",
       "         'function': 1,\n",
       "         'color': 1,\n",
       "         'important': 1,\n",
       "         'storytelling': 1,\n",
       "         'device.': 1,\n",
       "         'premiered': 1,\n",
       "         'competition': 1,\n",
       "         'at': 1,\n",
       "         '64th': 1,\n",
       "         'Berlin': 1,\n",
       "         'International': 1,\n",
       "         'Film': 1,\n",
       "         'Festival': 1,\n",
       "         'February': 2,\n",
       "         '6,': 1,\n",
       "         '2014.': 1,\n",
       "         'theatrical': 1,\n",
       "         'release': 1,\n",
       "         '26': 1,\n",
       "         'preceded': 1,\n",
       "         \"film's\": 2,\n",
       "         'global': 1,\n",
       "         'rollout,': 1,\n",
       "         'followed': 1,\n",
       "         'releases': 1,\n",
       "         'Germany,': 1,\n",
       "         'North': 1,\n",
       "         'America,': 1,\n",
       "         'United': 1,\n",
       "         'Kingdom': 1,\n",
       "         '6–7.': 1,\n",
       "         'received': 1,\n",
       "         'widespread': 1,\n",
       "         'acclaim': 1,\n",
       "         'its': 1,\n",
       "         'craftsmanship,': 1,\n",
       "         'acting,': 1,\n",
       "         'comedy;': 1,\n",
       "         'occasional': 1,\n",
       "         'criticism': 1,\n",
       "         'centered': 1,\n",
       "         'approach': 1,\n",
       "         'subject': 1,\n",
       "         'matter,': 1,\n",
       "         'storytelling,': 1,\n",
       "         'characterization.': 1,\n",
       "         'It': 1,\n",
       "         'earned': 2,\n",
       "         'US$172.9': 1,\n",
       "         'million': 1,\n",
       "         'box': 1,\n",
       "         'office': 1,\n",
       "         'revenue': 1,\n",
       "         'worldwide,': 1,\n",
       "         'highest': 1,\n",
       "         'grossing': 1,\n",
       "         'feature': 1,\n",
       "         'date.': 1,\n",
       "         'led': 1,\n",
       "         '87th': 1,\n",
       "         'Academy': 1,\n",
       "         'Awards': 1,\n",
       "         'season': 1,\n",
       "         'nine': 1,\n",
       "         'nominations': 1,\n",
       "         '(winning': 1,\n",
       "         'four),': 1,\n",
       "         'several': 1,\n",
       "         'other': 1,\n",
       "         'accolades,': 1,\n",
       "         'chiefly': 1,\n",
       "         'writing': 1,\n",
       "         'technical': 1,\n",
       "         'achievement.': 1})"
      ]
     },
     "execution_count": 40,
     "metadata": {},
     "output_type": "execute_result"
    }
   ],
   "source": [
    "dict_first_paragraph"
   ]
  },
  {
   "cell_type": "code",
   "execution_count": 41,
   "metadata": {},
   "outputs": [
    {
     "data": {
      "text/plain": [
       "[('and', 17)]"
      ]
     },
     "execution_count": 41,
     "metadata": {},
     "output_type": "execute_result"
    }
   ],
   "source": [
    "dict_first_paragraph.most_common(1)"
   ]
  },
  {
   "cell_type": "code",
   "execution_count": 42,
   "metadata": {},
   "outputs": [
    {
     "data": {
      "text/plain": [
       "[('and', 17), ('the', 17), ('The', 9)]"
      ]
     },
     "execution_count": 42,
     "metadata": {},
     "output_type": "execute_result"
    }
   ],
   "source": [
    "dict_first_paragraph.most_common(3)"
   ]
  },
  {
   "cell_type": "code",
   "execution_count": 43,
   "metadata": {},
   "outputs": [],
   "source": [
    "first_paragraph= first_paragraph.lower()"
   ]
  },
  {
   "cell_type": "code",
   "execution_count": 44,
   "metadata": {},
   "outputs": [],
   "source": [
    "first_paragraph_words = first_paragraph.split(\" \")"
   ]
  },
  {
   "cell_type": "code",
   "execution_count": 45,
   "metadata": {},
   "outputs": [],
   "source": [
    "dict_first_paragraph = Counter(first_paragraph_words)"
   ]
  },
  {
   "cell_type": "code",
   "execution_count": 46,
   "metadata": {},
   "outputs": [
    {
     "data": {
      "text/plain": [
       "[('the', 26)]"
      ]
     },
     "execution_count": 46,
     "metadata": {},
     "output_type": "execute_result"
    }
   ],
   "source": [
    "dict_first_paragraph.most_common(1)"
   ]
  },
  {
   "cell_type": "code",
   "execution_count": 47,
   "metadata": {},
   "outputs": [
    {
     "data": {
      "text/plain": [
       "[('the', 26), ('and', 17), ('a', 9)]"
      ]
     },
     "execution_count": 47,
     "metadata": {},
     "output_type": "execute_result"
    }
   ],
   "source": [
    "dict_first_paragraph.most_common(3)"
   ]
  },
  {
   "cell_type": "code",
   "execution_count": 48,
   "metadata": {},
   "outputs": [],
   "source": [
    "type_flower = \"tulip\""
   ]
  },
  {
   "cell_type": "code",
   "execution_count": 49,
   "metadata": {},
   "outputs": [],
   "source": [
    "type_rose = True"
   ]
  },
  {
   "cell_type": "code",
   "execution_count": 50,
   "metadata": {},
   "outputs": [
    {
     "data": {
      "text/plain": [
       "False"
      ]
     },
     "execution_count": 50,
     "metadata": {},
     "output_type": "execute_result"
    }
   ],
   "source": [
    "type_flower == type_rose"
   ]
  },
  {
   "cell_type": "code",
   "execution_count": 51,
   "metadata": {},
   "outputs": [
    {
     "data": {
      "text/plain": [
       "True"
      ]
     },
     "execution_count": 51,
     "metadata": {},
     "output_type": "execute_result"
    }
   ],
   "source": [
    "type_flower == \"tulip\""
   ]
  },
  {
   "cell_type": "code",
   "execution_count": 52,
   "metadata": {},
   "outputs": [],
   "source": [
    "price_flower = 9"
   ]
  },
  {
   "cell_type": "code",
   "execution_count": 53,
   "metadata": {},
   "outputs": [
    {
     "data": {
      "text/plain": [
       "True"
      ]
     },
     "execution_count": 53,
     "metadata": {},
     "output_type": "execute_result"
    }
   ],
   "source": [
    "type_flower != price_flower"
   ]
  },
  {
   "cell_type": "code",
   "execution_count": 54,
   "metadata": {},
   "outputs": [
    {
     "data": {
      "text/plain": [
       "False"
      ]
     },
     "execution_count": 54,
     "metadata": {},
     "output_type": "execute_result"
    }
   ],
   "source": [
    "price_flower<9"
   ]
  },
  {
   "cell_type": "code",
   "execution_count": 55,
   "metadata": {},
   "outputs": [
    {
     "data": {
      "text/plain": [
       "True"
      ]
     },
     "execution_count": 55,
     "metadata": {},
     "output_type": "execute_result"
    }
   ],
   "source": [
    "price_flower < 10"
   ]
  },
  {
   "cell_type": "code",
   "execution_count": 56,
   "metadata": {},
   "outputs": [
    {
     "data": {
      "text/plain": [
       "True"
      ]
     },
     "execution_count": 56,
     "metadata": {},
     "output_type": "execute_result"
    }
   ],
   "source": [
    "price_flower < 10 and type_flower ==\"tulip\""
   ]
  },
  {
   "cell_type": "code",
   "execution_count": 57,
   "metadata": {},
   "outputs": [
    {
     "data": {
      "text/plain": [
       "False"
      ]
     },
     "execution_count": 57,
     "metadata": {},
     "output_type": "execute_result"
    }
   ],
   "source": [
    "price_flower <9 and type_flower == \"tulip\""
   ]
  },
  {
   "cell_type": "code",
   "execution_count": 58,
   "metadata": {},
   "outputs": [
    {
     "data": {
      "text/plain": [
       "False"
      ]
     },
     "execution_count": 58,
     "metadata": {},
     "output_type": "execute_result"
    }
   ],
   "source": [
    "price_flower <= 9 and type_flower != \"tulip\""
   ]
  },
  {
   "cell_type": "code",
   "execution_count": 59,
   "metadata": {},
   "outputs": [
    {
     "data": {
      "text/plain": [
       "False"
      ]
     },
     "execution_count": 59,
     "metadata": {},
     "output_type": "execute_result"
    }
   ],
   "source": [
    "price_flower > 9 and type_flower != \"tulip\""
   ]
  },
  {
   "cell_type": "code",
   "execution_count": 60,
   "metadata": {},
   "outputs": [
    {
     "data": {
      "text/plain": [
       "False"
      ]
     },
     "execution_count": 60,
     "metadata": {},
     "output_type": "execute_result"
    }
   ],
   "source": [
    "not price_flower ==9"
   ]
  },
  {
   "cell_type": "code",
   "execution_count": 61,
   "metadata": {},
   "outputs": [
    {
     "data": {
      "text/plain": [
       "False"
      ]
     },
     "execution_count": 61,
     "metadata": {},
     "output_type": "execute_result"
    }
   ],
   "source": [
    "price_flower != 9"
   ]
  },
  {
   "cell_type": "code",
   "execution_count": 62,
   "metadata": {},
   "outputs": [],
   "source": [
    "my_string = \"the beatles is a great band\""
   ]
  },
  {
   "cell_type": "code",
   "execution_count": 64,
   "metadata": {},
   "outputs": [
    {
     "name": "stdout",
     "output_type": "stream",
     "text": [
      "this is my first if statement\n"
     ]
    }
   ],
   "source": [
    "if \"the\" in my_string:\n",
    "    print(\"this is my first if statement\")"
   ]
  },
  {
   "cell_type": "code",
   "execution_count": 65,
   "metadata": {},
   "outputs": [],
   "source": [
    "if \"the\" not in my_string:\n",
    "    print(\"Yay!!!\")"
   ]
  },
  {
   "cell_type": "code",
   "execution_count": 66,
   "metadata": {},
   "outputs": [
    {
     "name": "stdout",
     "output_type": "stream",
     "text": [
      "the beatles is a great band\n"
     ]
    }
   ],
   "source": [
    "if \"the\" not in my_string:\n",
    "    print(\"Yay\")\n",
    "else:\n",
    "    print(my_string)"
   ]
  },
  {
   "cell_type": "code",
   "execution_count": 67,
   "metadata": {},
   "outputs": [
    {
     "name": "stdout",
     "output_type": "stream",
     "text": [
      "Yay\n"
     ]
    }
   ],
   "source": [
    "if \"the\" in my_string:\n",
    "    print(\"Yay\")\n",
    "else:\n",
    "    print(my_string)"
   ]
  },
  {
   "cell_type": "code",
   "execution_count": 68,
   "metadata": {},
   "outputs": [
    {
     "name": "stdout",
     "output_type": "stream",
     "text": [
      "double yay\n"
     ]
    }
   ],
   "source": [
    "if \"the\" in my_string and price_flower ==9:\n",
    "    print(\"double yay\")\n",
    "else: \n",
    "    print(my_string)"
   ]
  },
  {
   "cell_type": "code",
   "execution_count": 69,
   "metadata": {},
   "outputs": [
    {
     "name": "stdout",
     "output_type": "stream",
     "text": [
      "beatles are here\n"
     ]
    }
   ],
   "source": [
    "if \"abba\" in my_string:\n",
    "    print(\"yay abba is here\")\n",
    "elif \"beatles\" in my_string:\n",
    "    print (\"beatles are here\")\n",
    "else:\n",
    "    print(my_string)"
   ]
  },
  {
   "cell_type": "code",
   "execution_count": 70,
   "metadata": {},
   "outputs": [
    {
     "name": "stdout",
     "output_type": "stream",
     "text": [
      "I love the beatles\n"
     ]
    }
   ],
   "source": [
    "if \"abba\" in my_string:\n",
    "    print(\"yay abba is here\")\n",
    "elif \"the rolling stones\" in my_string:\n",
    "    print(\"wow the rollings are here instead\")\n",
    "elif \"the beatles\" in my_string:\n",
    "    print(\"I love the beatles\")\n",
    "else:\n",
    "    print(\"I am tired!!!\")"
   ]
  },
  {
   "cell_type": "code",
   "execution_count": 71,
   "metadata": {},
   "outputs": [
    {
     "name": "stdout",
     "output_type": "stream",
     "text": [
      "I am tired!!!\n"
     ]
    }
   ],
   "source": [
    "if \"abba\" in my_string:\n",
    "    print(\"yay abba is here\")\n",
    "elif \"the rolling stones\" in my_string:\n",
    "    print(\"wow the rollings are here instead\")\n",
    "elif \"the Beatles\" in my_string:\n",
    "    print(\"I love the beatles\")\n",
    "else:\n",
    "    print(\"I am tired!!!\")"
   ]
  },
  {
   "cell_type": "code",
   "execution_count": 72,
   "metadata": {},
   "outputs": [
    {
     "name": "stdout",
     "output_type": "stream",
     "text": [
      "I love the beatles\n"
     ]
    }
   ],
   "source": [
    "if \"abba\" in my_string:\n",
    "    print(\"yay abba is here\")\n",
    "elif \"the rolling stones\" in my_string:\n",
    "    print(\"wow the rollings are here instead\")\n",
    "elif \"the Beatles\" or \"the beatles\" in my_string:\n",
    "    print(\"I love the beatles\")\n",
    "else:\n",
    "    print(\"I am tired!!!\")"
   ]
  },
  {
   "cell_type": "code",
   "execution_count": 73,
   "metadata": {},
   "outputs": [],
   "source": [
    "my_string = my_string.lower()"
   ]
  },
  {
   "cell_type": "code",
   "execution_count": 74,
   "metadata": {},
   "outputs": [
    {
     "name": "stdout",
     "output_type": "stream",
     "text": [
      "I love the beatles\n"
     ]
    }
   ],
   "source": [
    "if \"abba\" in my_string:\n",
    "    print(\"yay abba is here\")\n",
    "elif \"the rolling stones\" in my_string:\n",
    "    print(\"wow the rollings are here instead\")\n",
    "elif \"the beatles\" in my_string:\n",
    "    print(\"I love the beatles\")\n",
    "else:\n",
    "    print(\"I am tired!!!\")"
   ]
  },
  {
   "cell_type": "markdown",
   "metadata": {},
   "source": [
    "For Loops!"
   ]
  },
  {
   "cell_type": "code",
   "execution_count": 80,
   "metadata": {},
   "outputs": [],
   "source": [
    "mixed_elements = [1, 3 , 9, \"abba\", \"the\", \"beatles\"]"
   ]
  },
  {
   "cell_type": "code",
   "execution_count": 81,
   "metadata": {},
   "outputs": [],
   "source": [
    "mixed_elements[0] =str(mixed_elements[0])"
   ]
  },
  {
   "cell_type": "code",
   "execution_count": 82,
   "metadata": {},
   "outputs": [],
   "source": [
    "mixed_elements[1] =str(mixed_elements[0])"
   ]
  },
  {
   "cell_type": "code",
   "execution_count": 83,
   "metadata": {},
   "outputs": [],
   "source": [
    "mixed_elements[2] =str(mixed_elements[0])"
   ]
  },
  {
   "cell_type": "code",
   "execution_count": 84,
   "metadata": {},
   "outputs": [
    {
     "data": {
      "text/plain": [
       "['1', '1', '1', 'abba', 'the', 'beatles']"
      ]
     },
     "execution_count": 84,
     "metadata": {},
     "output_type": "execute_result"
    }
   ],
   "source": [
    "mixed_elements"
   ]
  },
  {
   "cell_type": "code",
   "execution_count": 85,
   "metadata": {},
   "outputs": [],
   "source": [
    "mixed_elements = [1, 3 , 9, \"abba\", \"the\", \"beatles\"]"
   ]
  },
  {
   "cell_type": "code",
   "execution_count": 86,
   "metadata": {},
   "outputs": [
    {
     "name": "stdout",
     "output_type": "stream",
     "text": [
      "1\n",
      "3\n",
      "9\n",
      "abba\n",
      "the\n",
      "beatles\n"
     ]
    }
   ],
   "source": [
    "for element in mixed_elements:\n",
    "    print(element)"
   ]
  },
  {
   "cell_type": "code",
   "execution_count": 87,
   "metadata": {
    "scrolled": true
   },
   "outputs": [
    {
     "name": "stdout",
     "output_type": "stream",
     "text": [
      "[1, 3, 9, 'abba', 'the', 'beatles']\n",
      "[1, 3, 9, 'abba', 'the', 'beatles']\n",
      "[1, 3, 9, 'abba', 'the', 'beatles']\n",
      "[1, 3, 9, 'abba', 'the', 'beatles']\n",
      "[1, 3, 9, 'abba', 'the', 'beatles']\n",
      "[1, 3, 9, 'abba', 'the', 'beatles']\n"
     ]
    }
   ],
   "source": [
    "for element in mixed_elements:\n",
    "    print(str(mixed_elements))"
   ]
  },
  {
   "cell_type": "code",
   "execution_count": 88,
   "metadata": {},
   "outputs": [
    {
     "name": "stdout",
     "output_type": "stream",
     "text": [
      "the beatles\n"
     ]
    }
   ],
   "source": [
    "print(\"the\", \"beatles\")"
   ]
  },
  {
   "cell_type": "code",
   "execution_count": 89,
   "metadata": {},
   "outputs": [
    {
     "name": "stdout",
     "output_type": "stream",
     "text": [
      "1 [1, 3, 9, 'abba', 'the', 'beatles']\n",
      "3 [1, 3, 9, 'abba', 'the', 'beatles']\n",
      "9 [1, 3, 9, 'abba', 'the', 'beatles']\n",
      "abba [1, 3, 9, 'abba', 'the', 'beatles']\n",
      "the [1, 3, 9, 'abba', 'the', 'beatles']\n",
      "beatles [1, 3, 9, 'abba', 'the', 'beatles']\n"
     ]
    }
   ],
   "source": [
    "for element in mixed_elements:\n",
    "    print(element, mixed_elements )"
   ]
  },
  {
   "cell_type": "code",
   "execution_count": 91,
   "metadata": {},
   "outputs": [
    {
     "name": "stdout",
     "output_type": "stream",
     "text": [
      "<class 'str'>\n",
      "<class 'str'>\n",
      "<class 'str'>\n",
      "<class 'str'>\n",
      "<class 'str'>\n",
      "<class 'str'>\n"
     ]
    }
   ],
   "source": [
    "for element in mixed_elements:\n",
    "    print(type(str(element)))"
   ]
  },
  {
   "cell_type": "code",
   "execution_count": 92,
   "metadata": {},
   "outputs": [
    {
     "data": {
      "text/plain": [
       "'beatles'"
      ]
     },
     "execution_count": 92,
     "metadata": {},
     "output_type": "execute_result"
    }
   ],
   "source": [
    "element"
   ]
  },
  {
   "cell_type": "code",
   "execution_count": 93,
   "metadata": {},
   "outputs": [
    {
     "name": "stdout",
     "output_type": "stream",
     "text": [
      "canary island\n",
      "africa\n",
      "south_america\n"
     ]
    }
   ],
   "source": [
    "for banana in ['canary island', 'africa', 'south_america']:\n",
    "    print(banana)"
   ]
  },
  {
   "cell_type": "code",
   "execution_count": 94,
   "metadata": {},
   "outputs": [
    {
     "ename": "NameError",
     "evalue": "name 'mixed_list' is not defined",
     "output_type": "error",
     "traceback": [
      "\u001b[0;31m---------------------------------------------------------------------------\u001b[0m",
      "\u001b[0;31mNameError\u001b[0m                                 Traceback (most recent call last)",
      "\u001b[0;32m<ipython-input-94-3dde808c8828>\u001b[0m in \u001b[0;36m<module>\u001b[0;34m\u001b[0m\n\u001b[0;32m----> 1\u001b[0;31m \u001b[0;32mfor\u001b[0m \u001b[0melements\u001b[0m \u001b[0;32min\u001b[0m \u001b[0mmixed_list\u001b[0m\u001b[0;34m:\u001b[0m\u001b[0;34m\u001b[0m\u001b[0;34m\u001b[0m\u001b[0m\n\u001b[0m\u001b[1;32m      2\u001b[0m     \u001b[0mmixed_list\u001b[0m\u001b[0;34m[\u001b[0m\u001b[0melement\u001b[0m\u001b[0;34m]\u001b[0m \u001b[0;34m=\u001b[0m \u001b[0mstr\u001b[0m\u001b[0;34m(\u001b[0m\u001b[0melement\u001b[0m\u001b[0;34m)\u001b[0m\u001b[0;34m\u001b[0m\u001b[0;34m\u001b[0m\u001b[0m\n",
      "\u001b[0;31mNameError\u001b[0m: name 'mixed_list' is not defined"
     ]
    }
   ],
   "source": [
    "for elements in mixed_list:\n",
    "    mixed_list[element] = str(element)"
   ]
  },
  {
   "cell_type": "code",
   "execution_count": 96,
   "metadata": {},
   "outputs": [],
   "source": [
    "for elements in [0,1,2]:\n",
    "    mixed_elements[elements] = str(mixed_elements[elements])"
   ]
  },
  {
   "cell_type": "code",
   "execution_count": 97,
   "metadata": {},
   "outputs": [
    {
     "data": {
      "text/plain": [
       "['1', '1', '9', 'abba', 'the', 'beatles']"
      ]
     },
     "execution_count": 97,
     "metadata": {},
     "output_type": "execute_result"
    }
   ],
   "source": [
    "mixed_elements"
   ]
  },
  {
   "cell_type": "code",
   "execution_count": 98,
   "metadata": {},
   "outputs": [
    {
     "data": {
      "text/plain": [
       "range(0, 2)"
      ]
     },
     "execution_count": 98,
     "metadata": {},
     "output_type": "execute_result"
    }
   ],
   "source": [
    "range(0, 2)"
   ]
  },
  {
   "cell_type": "code",
   "execution_count": 99,
   "metadata": {},
   "outputs": [
    {
     "name": "stdout",
     "output_type": "stream",
     "text": [
      "0\n",
      "1\n"
     ]
    }
   ],
   "source": [
    "for i in range(0,2):\n",
    "    print(i)"
   ]
  },
  {
   "cell_type": "code",
   "execution_count": 114,
   "metadata": {},
   "outputs": [],
   "source": [
    "for element in range(0,len(mixed_elements)+1):\n",
    "    mixed_elements[elements] = str(mixed_elements[elements])"
   ]
  },
  {
   "cell_type": "code",
   "execution_count": 101,
   "metadata": {},
   "outputs": [
    {
     "data": {
      "text/plain": [
       "['1', '1', '9', 'abba', 'the', 'beatles']"
      ]
     },
     "execution_count": 101,
     "metadata": {},
     "output_type": "execute_result"
    }
   ],
   "source": [
    "mixed_elements"
   ]
  },
  {
   "cell_type": "code",
   "execution_count": 103,
   "metadata": {},
   "outputs": [],
   "source": [
    "mixed_list= [1, 3, 5, 'abba', 'the', 'beatles', True]"
   ]
  },
  {
   "cell_type": "code",
   "execution_count": 105,
   "metadata": {},
   "outputs": [
    {
     "data": {
      "text/plain": [
       "[1, 3, 5, 'abba', 'the', 'beatles', True]"
      ]
     },
     "execution_count": 105,
     "metadata": {},
     "output_type": "execute_result"
    }
   ],
   "source": [
    "mixed_list"
   ]
  },
  {
   "cell_type": "code",
   "execution_count": 107,
   "metadata": {},
   "outputs": [
    {
     "name": "stdout",
     "output_type": "stream",
     "text": [
      "1\n",
      "3\n",
      "5\n",
      "abba is string\n",
      "the is string\n",
      "beatles is string\n",
      "True\n"
     ]
    }
   ],
   "source": [
    "for element in mixed_list:\n",
    "    if type(element) ==str:\n",
    "        print(element, \"is string\")\n",
    "    else: \n",
    "        print(str(element))"
   ]
  },
  {
   "cell_type": "code",
   "execution_count": 108,
   "metadata": {},
   "outputs": [
    {
     "ename": "IndentationError",
     "evalue": "expected an indented block (<ipython-input-108-126b071cc364>, line 5)",
     "output_type": "error",
     "traceback": [
      "\u001b[0;36m  File \u001b[0;32m\"<ipython-input-108-126b071cc364>\"\u001b[0;36m, line \u001b[0;32m5\u001b[0m\n\u001b[0;31m    print(str(element))\u001b[0m\n\u001b[0m                       ^\u001b[0m\n\u001b[0;31mIndentationError\u001b[0m\u001b[0;31m:\u001b[0m expected an indented block\n"
     ]
    }
   ],
   "source": [
    "for element in mixed_list:\n",
    "    if type(element) ==str:\n",
    "        print(element, \"is string\")\n",
    "    else:"
   ]
  },
  {
   "cell_type": "code",
   "execution_count": 109,
   "metadata": {},
   "outputs": [
    {
     "ename": "SyntaxError",
     "evalue": "unexpected EOF while parsing (<ipython-input-109-fa6f88c3bf16>, line 4)",
     "output_type": "error",
     "traceback": [
      "\u001b[0;36m  File \u001b[0;32m\"<ipython-input-109-fa6f88c3bf16>\"\u001b[0;36m, line \u001b[0;32m4\u001b[0m\n\u001b[0;31m    else:\u001b[0m\n\u001b[0m         ^\u001b[0m\n\u001b[0;31mSyntaxError\u001b[0m\u001b[0;31m:\u001b[0m unexpected EOF while parsing\n"
     ]
    }
   ],
   "source": [
    "for element in mixed_list:\n",
    "    if type(element) ==str:\n",
    "        print(element, \"is string\")\n",
    "    else:"
   ]
  },
  {
   "cell_type": "code",
   "execution_count": 110,
   "metadata": {},
   "outputs": [
    {
     "name": "stdout",
     "output_type": "stream",
     "text": [
      "abba is string\n",
      "the is string\n",
      "beatles is string\n"
     ]
    }
   ],
   "source": [
    "for element in mixed_list:\n",
    "    if type(element) ==str:\n",
    "        print(element, \"is string\")"
   ]
  },
  {
   "cell_type": "code",
   "execution_count": 111,
   "metadata": {},
   "outputs": [
    {
     "name": "stdout",
     "output_type": "stream",
     "text": [
      "abba is string\n",
      "the is string\n",
      "beatles is string\n",
      "True\n"
     ]
    }
   ],
   "source": [
    "for element in mixed_list:\n",
    "    if type(element) ==str:\n",
    "        print(element, \"is string\")\n",
    "print(element)"
   ]
  },
  {
   "cell_type": "code",
   "execution_count": 112,
   "metadata": {},
   "outputs": [
    {
     "name": "stdout",
     "output_type": "stream",
     "text": [
      "True\n"
     ]
    }
   ],
   "source": [
    "print(element)"
   ]
  },
  {
   "cell_type": "code",
   "execution_count": 113,
   "metadata": {},
   "outputs": [
    {
     "name": "stdout",
     "output_type": "stream",
     "text": [
      "south_america\n"
     ]
    }
   ],
   "source": [
    "print(banana)"
   ]
  },
  {
   "cell_type": "code",
   "execution_count": 115,
   "metadata": {},
   "outputs": [
    {
     "data": {
      "text/plain": [
       "6"
      ]
     },
     "execution_count": 115,
     "metadata": {},
     "output_type": "execute_result"
    }
   ],
   "source": [
    "len(mixed_elements)"
   ]
  },
  {
   "cell_type": "code",
   "execution_count": 116,
   "metadata": {},
   "outputs": [
    {
     "data": {
      "text/plain": [
       "['1', '1', '9', 'abba', 'the', 'beatles']"
      ]
     },
     "execution_count": 116,
     "metadata": {},
     "output_type": "execute_result"
    }
   ],
   "source": []
  },
  {
   "cell_type": "code",
   "execution_count": 126,
   "metadata": {},
   "outputs": [
    {
     "name": "stdout",
     "output_type": "stream",
     "text": [
      "1\n",
      "1\n",
      "9\n",
      "abba\n",
      "the\n",
      "beatles\n"
     ]
    }
   ],
   "source": [
    "for banana in range(0, len(mixed_elements)):\n",
    "    print(mixed_elements[banana])"
   ]
  },
  {
   "cell_type": "code",
   "execution_count": 124,
   "metadata": {},
   "outputs": [],
   "source": [
    "i = \"Tina\""
   ]
  },
  {
   "cell_type": "code",
   "execution_count": 125,
   "metadata": {},
   "outputs": [
    {
     "data": {
      "text/plain": [
       "'Tina'"
      ]
     },
     "execution_count": 125,
     "metadata": {},
     "output_type": "execute_result"
    }
   ],
   "source": [
    "i"
   ]
  },
  {
   "cell_type": "code",
   "execution_count": 127,
   "metadata": {},
   "outputs": [
    {
     "name": "stdout",
     "output_type": "stream",
     "text": [
      "T\n",
      "i\n",
      "n\n",
      "a\n"
     ]
    }
   ],
   "source": [
    "for char in \"Tina\":\n",
    "    print(char)"
   ]
  },
  {
   "cell_type": "code",
   "execution_count": null,
   "metadata": {},
   "outputs": [],
   "source": []
  }
 ],
 "metadata": {
  "kernelspec": {
   "display_name": "Python 3",
   "language": "python",
   "name": "python3"
  },
  "language_info": {
   "codemirror_mode": {
    "name": "ipython",
    "version": 3
   },
   "file_extension": ".py",
   "mimetype": "text/x-python",
   "name": "python",
   "nbconvert_exporter": "python",
   "pygments_lexer": "ipython3",
   "version": "3.7.3"
  }
 },
 "nbformat": 4,
 "nbformat_minor": 2
}
