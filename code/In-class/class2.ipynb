{
 "cells": [
  {
   "cell_type": "markdown",
   "metadata": {},
   "source": [
    "This is my second Python class. "
   ]
  },
  {
   "cell_type": "code",
   "execution_count": 1,
   "metadata": {},
   "outputs": [],
   "source": [
    "my_favorite_movie = \"The Grand Budapest Hotel\""
   ]
  },
  {
   "cell_type": "code",
   "execution_count": 2,
   "metadata": {},
   "outputs": [
    {
     "data": {
      "text/plain": [
       "'the grand budapest hotel'"
      ]
     },
     "execution_count": 2,
     "metadata": {},
     "output_type": "execute_result"
    }
   ],
   "source": [
    "my_favorite_movie.lower()"
   ]
  },
  {
   "cell_type": "code",
   "execution_count": 3,
   "metadata": {},
   "outputs": [
    {
     "data": {
      "text/plain": [
       "'The Grand Budapest Hotel'"
      ]
     },
     "execution_count": 3,
     "metadata": {},
     "output_type": "execute_result"
    }
   ],
   "source": [
    "my_favorite_movie"
   ]
  },
  {
   "cell_type": "code",
   "execution_count": 4,
   "metadata": {},
   "outputs": [],
   "source": [
    "my_favorite_movie = my_favorite_movie.lower()"
   ]
  },
  {
   "cell_type": "code",
   "execution_count": 5,
   "metadata": {},
   "outputs": [
    {
     "data": {
      "text/plain": [
       "'the grand budapest hotel'"
      ]
     },
     "execution_count": 5,
     "metadata": {},
     "output_type": "execute_result"
    }
   ],
   "source": [
    "my_favorite_movie"
   ]
  },
  {
   "cell_type": "code",
   "execution_count": 6,
   "metadata": {},
   "outputs": [],
   "source": [
    "favorite_movie = \"Titanic\""
   ]
  },
  {
   "cell_type": "code",
   "execution_count": 7,
   "metadata": {},
   "outputs": [
    {
     "data": {
      "text/plain": [
       "'titanic'"
      ]
     },
     "execution_count": 7,
     "metadata": {},
     "output_type": "execute_result"
    }
   ],
   "source": [
    "favorite_movie.lower()"
   ]
  },
  {
   "cell_type": "code",
   "execution_count": 8,
   "metadata": {},
   "outputs": [
    {
     "data": {
      "text/plain": [
       "'THE GRAND BUDAPEST HOTEL'"
      ]
     },
     "execution_count": 8,
     "metadata": {},
     "output_type": "execute_result"
    }
   ],
   "source": [
    "my_favorite_movie.upper()"
   ]
  },
  {
   "cell_type": "code",
   "execution_count": 9,
   "metadata": {},
   "outputs": [],
   "source": [
    "my_favorite_movie = my_favorite_movie.upper()"
   ]
  },
  {
   "cell_type": "code",
   "execution_count": 10,
   "metadata": {},
   "outputs": [
    {
     "data": {
      "text/plain": [
       "'THE GRAND BUDAPEST HOTEL'"
      ]
     },
     "execution_count": 10,
     "metadata": {},
     "output_type": "execute_result"
    }
   ],
   "source": [
    "my_favorite_movie"
   ]
  },
  {
   "cell_type": "code",
   "execution_count": 11,
   "metadata": {},
   "outputs": [
    {
     "data": {
      "text/plain": [
       "'Titanic'"
      ]
     },
     "execution_count": 11,
     "metadata": {},
     "output_type": "execute_result"
    }
   ],
   "source": [
    "favorite_movie "
   ]
  },
  {
   "cell_type": "code",
   "execution_count": 14,
   "metadata": {},
   "outputs": [],
   "source": [
    "favorite_movie = favorite_movie.lower().upper()"
   ]
  },
  {
   "cell_type": "code",
   "execution_count": 15,
   "metadata": {},
   "outputs": [
    {
     "data": {
      "text/plain": [
       "'TITANIC'"
      ]
     },
     "execution_count": 15,
     "metadata": {},
     "output_type": "execute_result"
    }
   ],
   "source": [
    "favorite_movie"
   ]
  },
  {
   "cell_type": "code",
   "execution_count": 16,
   "metadata": {},
   "outputs": [
    {
     "data": {
      "text/plain": [
       "24"
      ]
     },
     "execution_count": 16,
     "metadata": {},
     "output_type": "execute_result"
    }
   ],
   "source": [
    "len(my_favorite_movie)"
   ]
  },
  {
   "cell_type": "code",
   "execution_count": 17,
   "metadata": {},
   "outputs": [
    {
     "data": {
      "text/plain": [
       "'T'"
      ]
     },
     "execution_count": 17,
     "metadata": {},
     "output_type": "execute_result"
    }
   ],
   "source": [
    "my_favorite_movie[0]"
   ]
  },
  {
   "cell_type": "code",
   "execution_count": 18,
   "metadata": {},
   "outputs": [
    {
     "data": {
      "text/plain": [
       "'H'"
      ]
     },
     "execution_count": 18,
     "metadata": {},
     "output_type": "execute_result"
    }
   ],
   "source": [
    "my_favorite_movie[1]"
   ]
  },
  {
   "cell_type": "code",
   "execution_count": 19,
   "metadata": {},
   "outputs": [
    {
     "ename": "IndexError",
     "evalue": "string index out of range",
     "output_type": "error",
     "traceback": [
      "\u001b[0;31m---------------------------------------------------------------------------\u001b[0m",
      "\u001b[0;31mIndexError\u001b[0m                                Traceback (most recent call last)",
      "\u001b[0;32m<ipython-input-19-f3f3498ac889>\u001b[0m in \u001b[0;36m<module>\u001b[0;34m\u001b[0m\n\u001b[0;32m----> 1\u001b[0;31m \u001b[0mmy_favorite_movie\u001b[0m\u001b[0;34m[\u001b[0m\u001b[0;36m24\u001b[0m\u001b[0;34m]\u001b[0m\u001b[0;34m\u001b[0m\u001b[0;34m\u001b[0m\u001b[0m\n\u001b[0m",
      "\u001b[0;31mIndexError\u001b[0m: string index out of range"
     ]
    }
   ],
   "source": [
    "my_favorite_movie[24]"
   ]
  },
  {
   "cell_type": "code",
   "execution_count": 20,
   "metadata": {},
   "outputs": [
    {
     "data": {
      "text/plain": [
       "'L'"
      ]
     },
     "execution_count": 20,
     "metadata": {},
     "output_type": "execute_result"
    }
   ],
   "source": [
    "my_favorite_movie[23]"
   ]
  },
  {
   "cell_type": "code",
   "execution_count": 21,
   "metadata": {},
   "outputs": [
    {
     "data": {
      "text/plain": [
       "'L'"
      ]
     },
     "execution_count": 21,
     "metadata": {},
     "output_type": "execute_result"
    }
   ],
   "source": [
    "my_favorite_movie[-1]"
   ]
  },
  {
   "cell_type": "code",
   "execution_count": 22,
   "metadata": {},
   "outputs": [
    {
     "data": {
      "text/plain": [
       "'E'"
      ]
     },
     "execution_count": 22,
     "metadata": {},
     "output_type": "execute_result"
    }
   ],
   "source": [
    "my_favorite_movie[-2]"
   ]
  },
  {
   "cell_type": "code",
   "execution_count": 24,
   "metadata": {},
   "outputs": [],
   "source": [
    "first_paragraph = \"The Grand Budapest Hotel is a 2014 comedy-drama film written and directed by Wes Anderson. Ralph Fiennes leads a seventeen-actor ensemble cast as Monsieur Gustave H., famed concierge of a twentieth-century mountainside resort in the fictional country of Zubrowka. When Gustave is framed for the murder of a wealthy dowager (Tilda Swinton), he and his recently befriended protégé Zero (Tony Revolori) embark on a quest for fortune and a priceless Renaissance painting amidst the backdrop of an encroaching fascist regime. Anderson's American Empirical Pictures produced the film in association with Studio Babelsberg, Fox Searchlight Pictures, and Indian Paintbrush's Scott Rudin and Steven Rales. Fox Searchlight supervised the commercial distribution, and The Grand Budapest Hotel's funding was sourced through Indian Paintbrush and German government-funded tax rebates.Anderson and longtime collaborator Hugo Guinness conceived The Grand Budapest Hotel as a fragmented tale following a character inspired by a common friend. They initially struggled in their brainstorming, but the experience touring Europe and researching the literature of Austrian novelist Stefan Zweig shaped their vision for the film. The Grand Budapest Hotel draws visually from Europe-set mid-century Hollywood films and the Library of Congress's photochrom print collection of alpine resorts. Principal photography took place in eastern Germany from January to March 2013. French composer Alexandre Desplat composed the symphonic, Russian folk-inspired score, which expanded on his early work with Anderson. The film explores themes of fascism, nostalgia, friendship, and loyalty, and further studies emphasize the function of color as an important storytelling device. The Grand Budapest Hotel premiered in competition at the 64th Berlin International Film Festival on February 6, 2014. The French theatrical release on February 26 preceded the film's global rollout, followed by releases in Germany, North America, and the United Kingdom on March 6–7. The Grand Budapest Hotel received widespread acclaim for its craftsmanship, acting, and comedy; occasional criticism centered on the film's approach to the subject matter, fragmented storytelling, and characterization. It earned US$172.9 million in box office revenue worldwide, Anderson's highest grossing feature to date. The film led the 87th Academy Awards season with nine nominations (winning four), and earned several other accolades, chiefly for writing and technical achievement.\""
   ]
  },
  {
   "cell_type": "code",
   "execution_count": 25,
   "metadata": {},
   "outputs": [
    {
     "data": {
      "text/plain": [
       "\"The Grand Budapest Hotel is a 2014 comedy-drama film written and directed by Wes Anderson. Ralph Fiennes leads a seventeen-actor ensemble cast as Monsieur Gustave H., famed concierge of a twentieth-century mountainside resort in the fictional country of Zubrowka. When Gustave is framed for the murder of a wealthy dowager (Tilda Swinton), he and his recently befriended protégé Zero (Tony Revolori) embark on a quest for fortune and a priceless Renaissance painting amidst the backdrop of an encroaching fascist regime. Anderson's American Empirical Pictures produced the film in association with Studio Babelsberg, Fox Searchlight Pictures, and Indian Paintbrush's Scott Rudin and Steven Rales. Fox Searchlight supervised the commercial distribution, and The Grand Budapest Hotel's funding was sourced through Indian Paintbrush and German government-funded tax rebates.Anderson and longtime collaborator Hugo Guinness conceived The Grand Budapest Hotel as a fragmented tale following a character inspired by a common friend. They initially struggled in their brainstorming, but the experience touring Europe and researching the literature of Austrian novelist Stefan Zweig shaped their vision for the film. The Grand Budapest Hotel draws visually from Europe-set mid-century Hollywood films and the Library of Congress's photochrom print collection of alpine resorts. Principal photography took place in eastern Germany from January to March 2013. French composer Alexandre Desplat composed the symphonic, Russian folk-inspired score, which expanded on his early work with Anderson. The film explores themes of fascism, nostalgia, friendship, and loyalty, and further studies emphasize the function of color as an important storytelling device. The Grand Budapest Hotel premiered in competition at the 64th Berlin International Film Festival on February 6, 2014. The French theatrical release on February 26 preceded the film's global rollout, followed by releases in Germany, North America, and the United Kingdom on March 6–7. The Grand Budapest Hotel received widespread acclaim for its craftsmanship, acting, and comedy; occasional criticism centered on the film's approach to the subject matter, fragmented storytelling, and characterization. It earned US$172.9 million in box office revenue worldwide, Anderson's highest grossing feature to date. The film led the 87th Academy Awards season with nine nominations (winning four), and earned several other accolades, chiefly for writing and technical achievement.\""
      ]
     },
     "execution_count": 25,
     "metadata": {},
     "output_type": "execute_result"
    }
   ],
   "source": [
    "first_paragraph"
   ]
  },
  {
   "cell_type": "code",
   "execution_count": 26,
   "metadata": {},
   "outputs": [],
   "source": [
    "lenght_first_paragraph = len(first_paragraph)"
   ]
  },
  {
   "cell_type": "code",
   "execution_count": 28,
   "metadata": {},
   "outputs": [
    {
     "data": {
      "text/plain": [
       "2519"
      ]
     },
     "execution_count": 28,
     "metadata": {},
     "output_type": "execute_result"
    }
   ],
   "source": [
    "lenght_first_paragraph"
   ]
  },
  {
   "cell_type": "code",
   "execution_count": 29,
   "metadata": {},
   "outputs": [
    {
     "data": {
      "text/plain": [
       "'.'"
      ]
     },
     "execution_count": 29,
     "metadata": {},
     "output_type": "execute_result"
    }
   ],
   "source": [
    "first_paragraph[-1]"
   ]
  },
  {
   "cell_type": "code",
   "execution_count": 30,
   "metadata": {},
   "outputs": [
    {
     "data": {
      "text/plain": [
       "'.'"
      ]
     },
     "execution_count": 30,
     "metadata": {},
     "output_type": "execute_result"
    }
   ],
   "source": [
    "first_paragraph[lenght_first_paragraph-1]"
   ]
  },
  {
   "cell_type": "code",
   "execution_count": 32,
   "metadata": {},
   "outputs": [
    {
     "data": {
      "text/plain": [
       "'.'"
      ]
     },
     "execution_count": 32,
     "metadata": {},
     "output_type": "execute_result"
    }
   ],
   "source": [
    "first_paragraph[len(first_paragraph)-1]"
   ]
  },
  {
   "cell_type": "code",
   "execution_count": 33,
   "metadata": {},
   "outputs": [
    {
     "data": {
      "text/plain": [
       "'The'"
      ]
     },
     "execution_count": 33,
     "metadata": {},
     "output_type": "execute_result"
    }
   ],
   "source": [
    "first_paragraph[0:3]"
   ]
  },
  {
   "cell_type": "code",
   "execution_count": 34,
   "metadata": {},
   "outputs": [
    {
     "data": {
      "text/plain": [
       "' Grand '"
      ]
     },
     "execution_count": 34,
     "metadata": {},
     "output_type": "execute_result"
    }
   ],
   "source": [
    "first_paragraph[3:10]"
   ]
  },
  {
   "cell_type": "code",
   "execution_count": 35,
   "metadata": {},
   "outputs": [
    {
     "data": {
      "text/plain": [
       "'ment.'"
      ]
     },
     "execution_count": 35,
     "metadata": {},
     "output_type": "execute_result"
    }
   ],
   "source": [
    "first_paragraph[2514:2519]"
   ]
  },
  {
   "cell_type": "code",
   "execution_count": 39,
   "metadata": {},
   "outputs": [
    {
     "data": {
      "text/plain": [
       "'ment.'"
      ]
     },
     "execution_count": 39,
     "metadata": {},
     "output_type": "execute_result"
    }
   ],
   "source": [
    "first_paragraph[2514:2530]"
   ]
  },
  {
   "cell_type": "code",
   "execution_count": 40,
   "metadata": {},
   "outputs": [
    {
     "ename": "TypeError",
     "evalue": "'str' object is not callable",
     "output_type": "error",
     "traceback": [
      "\u001b[0;31m---------------------------------------------------------------------------\u001b[0m",
      "\u001b[0;31mTypeError\u001b[0m                                 Traceback (most recent call last)",
      "\u001b[0;32m<ipython-input-40-88cd8d60ac3b>\u001b[0m in \u001b[0;36m<module>\u001b[0;34m\u001b[0m\n\u001b[0;32m----> 1\u001b[0;31m \u001b[0mfirst_paragraph\u001b[0m\u001b[0;34m(\u001b[0m\u001b[0;36m0\u001b[0m\u001b[0;34m)\u001b[0m\u001b[0;34m\u001b[0m\u001b[0;34m\u001b[0m\u001b[0m\n\u001b[0m",
      "\u001b[0;31mTypeError\u001b[0m: 'str' object is not callable"
     ]
    }
   ],
   "source": [
    "first_paragraph(0)"
   ]
  },
  {
   "cell_type": "code",
   "execution_count": 41,
   "metadata": {},
   "outputs": [
    {
     "data": {
      "text/plain": [
       "'ment'"
      ]
     },
     "execution_count": 41,
     "metadata": {},
     "output_type": "execute_result"
    }
   ],
   "source": [
    "first_paragraph[2514:-1]"
   ]
  },
  {
   "cell_type": "code",
   "execution_count": 42,
   "metadata": {},
   "outputs": [],
   "source": [
    "first_paragraph_list = first_paragraph.split()"
   ]
  },
  {
   "cell_type": "code",
   "execution_count": 44,
   "metadata": {},
   "outputs": [
    {
     "data": {
      "text/plain": [
       "['The',\n",
       " 'Grand',\n",
       " 'Budapest',\n",
       " 'Hotel',\n",
       " 'is',\n",
       " 'a',\n",
       " '2014',\n",
       " 'comedy-drama',\n",
       " 'film',\n",
       " 'written',\n",
       " 'and',\n",
       " 'directed',\n",
       " 'by',\n",
       " 'Wes',\n",
       " 'Anderson.',\n",
       " 'Ralph',\n",
       " 'Fiennes',\n",
       " 'leads',\n",
       " 'a',\n",
       " 'seventeen-actor',\n",
       " 'ensemble',\n",
       " 'cast',\n",
       " 'as',\n",
       " 'Monsieur',\n",
       " 'Gustave',\n",
       " 'H.,',\n",
       " 'famed',\n",
       " 'concierge',\n",
       " 'of',\n",
       " 'a',\n",
       " 'twentieth-century',\n",
       " 'mountainside',\n",
       " 'resort',\n",
       " 'in',\n",
       " 'the',\n",
       " 'fictional',\n",
       " 'country',\n",
       " 'of',\n",
       " 'Zubrowka.',\n",
       " 'When',\n",
       " 'Gustave',\n",
       " 'is',\n",
       " 'framed',\n",
       " 'for',\n",
       " 'the',\n",
       " 'murder',\n",
       " 'of',\n",
       " 'a',\n",
       " 'wealthy',\n",
       " 'dowager',\n",
       " '(Tilda',\n",
       " 'Swinton),',\n",
       " 'he',\n",
       " 'and',\n",
       " 'his',\n",
       " 'recently',\n",
       " 'befriended',\n",
       " 'protégé',\n",
       " 'Zero',\n",
       " '(Tony',\n",
       " 'Revolori)',\n",
       " 'embark',\n",
       " 'on',\n",
       " 'a',\n",
       " 'quest',\n",
       " 'for',\n",
       " 'fortune',\n",
       " 'and',\n",
       " 'a',\n",
       " 'priceless',\n",
       " 'Renaissance',\n",
       " 'painting',\n",
       " 'amidst',\n",
       " 'the',\n",
       " 'backdrop',\n",
       " 'of',\n",
       " 'an',\n",
       " 'encroaching',\n",
       " 'fascist',\n",
       " 'regime.',\n",
       " \"Anderson's\",\n",
       " 'American',\n",
       " 'Empirical',\n",
       " 'Pictures',\n",
       " 'produced',\n",
       " 'the',\n",
       " 'film',\n",
       " 'in',\n",
       " 'association',\n",
       " 'with',\n",
       " 'Studio',\n",
       " 'Babelsberg,',\n",
       " 'Fox',\n",
       " 'Searchlight',\n",
       " 'Pictures,',\n",
       " 'and',\n",
       " 'Indian',\n",
       " \"Paintbrush's\",\n",
       " 'Scott',\n",
       " 'Rudin',\n",
       " 'and',\n",
       " 'Steven',\n",
       " 'Rales.',\n",
       " 'Fox',\n",
       " 'Searchlight',\n",
       " 'supervised',\n",
       " 'the',\n",
       " 'commercial',\n",
       " 'distribution,',\n",
       " 'and',\n",
       " 'The',\n",
       " 'Grand',\n",
       " 'Budapest',\n",
       " \"Hotel's\",\n",
       " 'funding',\n",
       " 'was',\n",
       " 'sourced',\n",
       " 'through',\n",
       " 'Indian',\n",
       " 'Paintbrush',\n",
       " 'and',\n",
       " 'German',\n",
       " 'government-funded',\n",
       " 'tax',\n",
       " 'rebates.Anderson',\n",
       " 'and',\n",
       " 'longtime',\n",
       " 'collaborator',\n",
       " 'Hugo',\n",
       " 'Guinness',\n",
       " 'conceived',\n",
       " 'The',\n",
       " 'Grand',\n",
       " 'Budapest',\n",
       " 'Hotel',\n",
       " 'as',\n",
       " 'a',\n",
       " 'fragmented',\n",
       " 'tale',\n",
       " 'following',\n",
       " 'a',\n",
       " 'character',\n",
       " 'inspired',\n",
       " 'by',\n",
       " 'a',\n",
       " 'common',\n",
       " 'friend.',\n",
       " 'They',\n",
       " 'initially',\n",
       " 'struggled',\n",
       " 'in',\n",
       " 'their',\n",
       " 'brainstorming,',\n",
       " 'but',\n",
       " 'the',\n",
       " 'experience',\n",
       " 'touring',\n",
       " 'Europe',\n",
       " 'and',\n",
       " 'researching',\n",
       " 'the',\n",
       " 'literature',\n",
       " 'of',\n",
       " 'Austrian',\n",
       " 'novelist',\n",
       " 'Stefan',\n",
       " 'Zweig',\n",
       " 'shaped',\n",
       " 'their',\n",
       " 'vision',\n",
       " 'for',\n",
       " 'the',\n",
       " 'film.',\n",
       " 'The',\n",
       " 'Grand',\n",
       " 'Budapest',\n",
       " 'Hotel',\n",
       " 'draws',\n",
       " 'visually',\n",
       " 'from',\n",
       " 'Europe-set',\n",
       " 'mid-century',\n",
       " 'Hollywood',\n",
       " 'films',\n",
       " 'and',\n",
       " 'the',\n",
       " 'Library',\n",
       " 'of',\n",
       " \"Congress's\",\n",
       " 'photochrom',\n",
       " 'print',\n",
       " 'collection',\n",
       " 'of',\n",
       " 'alpine',\n",
       " 'resorts.',\n",
       " 'Principal',\n",
       " 'photography',\n",
       " 'took',\n",
       " 'place',\n",
       " 'in',\n",
       " 'eastern',\n",
       " 'Germany',\n",
       " 'from',\n",
       " 'January',\n",
       " 'to',\n",
       " 'March',\n",
       " '2013.',\n",
       " 'French',\n",
       " 'composer',\n",
       " 'Alexandre',\n",
       " 'Desplat',\n",
       " 'composed',\n",
       " 'the',\n",
       " 'symphonic,',\n",
       " 'Russian',\n",
       " 'folk-inspired',\n",
       " 'score,',\n",
       " 'which',\n",
       " 'expanded',\n",
       " 'on',\n",
       " 'his',\n",
       " 'early',\n",
       " 'work',\n",
       " 'with',\n",
       " 'Anderson.',\n",
       " 'The',\n",
       " 'film',\n",
       " 'explores',\n",
       " 'themes',\n",
       " 'of',\n",
       " 'fascism,',\n",
       " 'nostalgia,',\n",
       " 'friendship,',\n",
       " 'and',\n",
       " 'loyalty,',\n",
       " 'and',\n",
       " 'further',\n",
       " 'studies',\n",
       " 'emphasize',\n",
       " 'the',\n",
       " 'function',\n",
       " 'of',\n",
       " 'color',\n",
       " 'as',\n",
       " 'an',\n",
       " 'important',\n",
       " 'storytelling',\n",
       " 'device.',\n",
       " 'The',\n",
       " 'Grand',\n",
       " 'Budapest',\n",
       " 'Hotel',\n",
       " 'premiered',\n",
       " 'in',\n",
       " 'competition',\n",
       " 'at',\n",
       " 'the',\n",
       " '64th',\n",
       " 'Berlin',\n",
       " 'International',\n",
       " 'Film',\n",
       " 'Festival',\n",
       " 'on',\n",
       " 'February',\n",
       " '6,',\n",
       " '2014.',\n",
       " 'The',\n",
       " 'French',\n",
       " 'theatrical',\n",
       " 'release',\n",
       " 'on',\n",
       " 'February',\n",
       " '26',\n",
       " 'preceded',\n",
       " 'the',\n",
       " \"film's\",\n",
       " 'global',\n",
       " 'rollout,',\n",
       " 'followed',\n",
       " 'by',\n",
       " 'releases',\n",
       " 'in',\n",
       " 'Germany,',\n",
       " 'North',\n",
       " 'America,',\n",
       " 'and',\n",
       " 'the',\n",
       " 'United',\n",
       " 'Kingdom',\n",
       " 'on',\n",
       " 'March',\n",
       " '6–7.',\n",
       " 'The',\n",
       " 'Grand',\n",
       " 'Budapest',\n",
       " 'Hotel',\n",
       " 'received',\n",
       " 'widespread',\n",
       " 'acclaim',\n",
       " 'for',\n",
       " 'its',\n",
       " 'craftsmanship,',\n",
       " 'acting,',\n",
       " 'and',\n",
       " 'comedy;',\n",
       " 'occasional',\n",
       " 'criticism',\n",
       " 'centered',\n",
       " 'on',\n",
       " 'the',\n",
       " \"film's\",\n",
       " 'approach',\n",
       " 'to',\n",
       " 'the',\n",
       " 'subject',\n",
       " 'matter,',\n",
       " 'fragmented',\n",
       " 'storytelling,',\n",
       " 'and',\n",
       " 'characterization.',\n",
       " 'It',\n",
       " 'earned',\n",
       " 'US$172.9',\n",
       " 'million',\n",
       " 'in',\n",
       " 'box',\n",
       " 'office',\n",
       " 'revenue',\n",
       " 'worldwide,',\n",
       " \"Anderson's\",\n",
       " 'highest',\n",
       " 'grossing',\n",
       " 'feature',\n",
       " 'to',\n",
       " 'date.',\n",
       " 'The',\n",
       " 'film',\n",
       " 'led',\n",
       " 'the',\n",
       " '87th',\n",
       " 'Academy',\n",
       " 'Awards',\n",
       " 'season',\n",
       " 'with',\n",
       " 'nine',\n",
       " 'nominations',\n",
       " '(winning',\n",
       " 'four),',\n",
       " 'and',\n",
       " 'earned',\n",
       " 'several',\n",
       " 'other',\n",
       " 'accolades,',\n",
       " 'chiefly',\n",
       " 'for',\n",
       " 'writing',\n",
       " 'and',\n",
       " 'technical',\n",
       " 'achievement.']"
      ]
     },
     "execution_count": 44,
     "metadata": {},
     "output_type": "execute_result"
    }
   ],
   "source": [
    "first_paragraph_list"
   ]
  },
  {
   "cell_type": "code",
   "execution_count": 45,
   "metadata": {},
   "outputs": [],
   "source": [
    "my_favorite_movie_list = my_favorite_movie.split()"
   ]
  },
  {
   "cell_type": "code",
   "execution_count": 46,
   "metadata": {},
   "outputs": [
    {
     "data": {
      "text/plain": [
       "['THE', 'GRAND', 'BUDAPEST', 'HOTEL']"
      ]
     },
     "execution_count": 46,
     "metadata": {},
     "output_type": "execute_result"
    }
   ],
   "source": [
    "my_favorite_movie_list"
   ]
  },
  {
   "cell_type": "code",
   "execution_count": 48,
   "metadata": {},
   "outputs": [
    {
     "data": {
      "text/plain": [
       "list"
      ]
     },
     "execution_count": 48,
     "metadata": {},
     "output_type": "execute_result"
    }
   ],
   "source": [
    "type(my_favorite_movie_list)"
   ]
  },
  {
   "cell_type": "code",
   "execution_count": 49,
   "metadata": {},
   "outputs": [],
   "source": [
    "my_favorite_movie_list = my_favorite_movie.split(\"A\")"
   ]
  },
  {
   "cell_type": "code",
   "execution_count": 50,
   "metadata": {},
   "outputs": [
    {
     "data": {
      "text/plain": [
       "['THE GR', 'ND BUD', 'PEST HOTEL']"
      ]
     },
     "execution_count": 50,
     "metadata": {},
     "output_type": "execute_result"
    }
   ],
   "source": [
    "my_favorite_movie_list"
   ]
  },
  {
   "cell_type": "code",
   "execution_count": 52,
   "metadata": {},
   "outputs": [
    {
     "data": {
      "text/plain": [
       "'THE GRAND BUDAPEST HOTEL'"
      ]
     },
     "execution_count": 52,
     "metadata": {},
     "output_type": "execute_result"
    }
   ],
   "source": [
    "my_favorite_movie"
   ]
  },
  {
   "cell_type": "code",
   "execution_count": 53,
   "metadata": {},
   "outputs": [],
   "source": [
    "my_favorite_movie_list = my_favorite_movie.lower().split(\"A\")"
   ]
  },
  {
   "cell_type": "code",
   "execution_count": 54,
   "metadata": {},
   "outputs": [
    {
     "data": {
      "text/plain": [
       "['the grand budapest hotel']"
      ]
     },
     "execution_count": 54,
     "metadata": {},
     "output_type": "execute_result"
    }
   ],
   "source": [
    "my_favorite_movie_list"
   ]
  },
  {
   "cell_type": "code",
   "execution_count": 55,
   "metadata": {},
   "outputs": [],
   "source": [
    "my_favorite_movie_list = my_favorite_movie.lower().split(\"A\")"
   ]
  },
  {
   "cell_type": "code",
   "execution_count": 56,
   "metadata": {},
   "outputs": [
    {
     "data": {
      "text/plain": [
       "['the gr', 'nd bud', 'pest hotel']"
      ]
     },
     "execution_count": 56,
     "metadata": {},
     "output_type": "execute_result"
    }
   ],
   "source": [
    "my_favorite_movie_list"
   ]
  },
  {
   "cell_type": "code",
   "execution_count": 57,
   "metadata": {},
   "outputs": [],
   "source": [
    "first_paragraph = first_paragraph.lower()"
   ]
  },
  {
   "cell_type": "code",
   "execution_count": 58,
   "metadata": {},
   "outputs": [
    {
     "data": {
      "text/plain": [
       "\"the grand budapest hotel is a 2014 comedy-drama film written and directed by wes anderson. ralph fiennes leads a seventeen-actor ensemble cast as monsieur gustave h., famed concierge of a twentieth-century mountainside resort in the fictional country of zubrowka. when gustave is framed for the murder of a wealthy dowager (tilda swinton), he and his recently befriended protégé zero (tony revolori) embark on a quest for fortune and a priceless renaissance painting amidst the backdrop of an encroaching fascist regime. anderson's american empirical pictures produced the film in association with studio babelsberg, fox searchlight pictures, and indian paintbrush's scott rudin and steven rales. fox searchlight supervised the commercial distribution, and the grand budapest hotel's funding was sourced through indian paintbrush and german government-funded tax rebates.anderson and longtime collaborator hugo guinness conceived the grand budapest hotel as a fragmented tale following a character inspired by a common friend. they initially struggled in their brainstorming, but the experience touring europe and researching the literature of austrian novelist stefan zweig shaped their vision for the film. the grand budapest hotel draws visually from europe-set mid-century hollywood films and the library of congress's photochrom print collection of alpine resorts. principal photography took place in eastern germany from january to march 2013. french composer alexandre desplat composed the symphonic, russian folk-inspired score, which expanded on his early work with anderson. the film explores themes of fascism, nostalgia, friendship, and loyalty, and further studies emphasize the function of color as an important storytelling device. the grand budapest hotel premiered in competition at the 64th berlin international film festival on february 6, 2014. the french theatrical release on february 26 preceded the film's global rollout, followed by releases in germany, north america, and the united kingdom on march 6–7. the grand budapest hotel received widespread acclaim for its craftsmanship, acting, and comedy; occasional criticism centered on the film's approach to the subject matter, fragmented storytelling, and characterization. it earned us$172.9 million in box office revenue worldwide, anderson's highest grossing feature to date. the film led the 87th academy awards season with nine nominations (winning four), and earned several other accolades, chiefly for writing and technical achievement.\""
      ]
     },
     "execution_count": 58,
     "metadata": {},
     "output_type": "execute_result"
    }
   ],
   "source": [
    "first_paragraph"
   ]
  },
  {
   "cell_type": "code",
   "execution_count": 60,
   "metadata": {},
   "outputs": [
    {
     "data": {
      "text/plain": [
       "'the gr nd bud pest hotel'"
      ]
     },
     "execution_count": 60,
     "metadata": {},
     "output_type": "execute_result"
    }
   ],
   "source": [
    "\" \".join(my_favorite_movie_list)"
   ]
  },
  {
   "cell_type": "code",
   "execution_count": 61,
   "metadata": {},
   "outputs": [],
   "source": [
    "test1 = \"A\".join(my_favorite_movie_list)"
   ]
  },
  {
   "cell_type": "code",
   "execution_count": 62,
   "metadata": {},
   "outputs": [
    {
     "data": {
      "text/plain": [
       "'the grAnd budApest hotel'"
      ]
     },
     "execution_count": 62,
     "metadata": {},
     "output_type": "execute_result"
    }
   ],
   "source": [
    "test1"
   ]
  },
  {
   "cell_type": "code",
   "execution_count": 64,
   "metadata": {},
   "outputs": [
    {
     "data": {
      "text/plain": [
       "'the grand budapest hotel'"
      ]
     },
     "execution_count": 64,
     "metadata": {},
     "output_type": "execute_result"
    }
   ],
   "source": [
    "test1.lower()"
   ]
  },
  {
   "cell_type": "code",
   "execution_count": 65,
   "metadata": {},
   "outputs": [],
   "source": [
    "test2 = \"a\".join(my_favorite_movie_list)"
   ]
  },
  {
   "cell_type": "code",
   "execution_count": 66,
   "metadata": {},
   "outputs": [
    {
     "data": {
      "text/plain": [
       "'the grand budapest hotel'"
      ]
     },
     "execution_count": 66,
     "metadata": {},
     "output_type": "execute_result"
    }
   ],
   "source": [
    "test2"
   ]
  },
  {
   "cell_type": "code",
   "execution_count": 67,
   "metadata": {},
   "outputs": [
    {
     "data": {
      "text/plain": [
       "str"
      ]
     },
     "execution_count": 67,
     "metadata": {},
     "output_type": "execute_result"
    }
   ],
   "source": [
    "type(test2)"
   ]
  },
  {
   "cell_type": "code",
   "execution_count": 68,
   "metadata": {},
   "outputs": [
    {
     "data": {
      "text/plain": [
       "list"
      ]
     },
     "execution_count": 68,
     "metadata": {},
     "output_type": "execute_result"
    }
   ],
   "source": [
    "type(my_favorite_movie_list)"
   ]
  },
  {
   "cell_type": "markdown",
   "metadata": {},
   "source": [
    "This is the part in which we do a formal introduction to lists."
   ]
  },
  {
   "cell_type": "code",
   "execution_count": 69,
   "metadata": {},
   "outputs": [],
   "source": [
    "my_list = []"
   ]
  },
  {
   "cell_type": "code",
   "execution_count": 70,
   "metadata": {},
   "outputs": [
    {
     "data": {
      "text/plain": [
       "list"
      ]
     },
     "execution_count": 70,
     "metadata": {},
     "output_type": "execute_result"
    }
   ],
   "source": [
    "type(my_list)"
   ]
  },
  {
   "cell_type": "code",
   "execution_count": 71,
   "metadata": {},
   "outputs": [],
   "source": [
    "my_list =[\"a\", \"B\", \"b\", \"a\"]"
   ]
  },
  {
   "cell_type": "code",
   "execution_count": 72,
   "metadata": {},
   "outputs": [
    {
     "data": {
      "text/plain": [
       "list"
      ]
     },
     "execution_count": 72,
     "metadata": {},
     "output_type": "execute_result"
    }
   ],
   "source": [
    "type(my_list)"
   ]
  },
  {
   "cell_type": "code",
   "execution_count": 73,
   "metadata": {},
   "outputs": [
    {
     "data": {
      "text/plain": [
       "'a'"
      ]
     },
     "execution_count": 73,
     "metadata": {},
     "output_type": "execute_result"
    }
   ],
   "source": [
    "my_list[0]"
   ]
  },
  {
   "cell_type": "code",
   "execution_count": 74,
   "metadata": {},
   "outputs": [
    {
     "data": {
      "text/plain": [
       "'B'"
      ]
     },
     "execution_count": 74,
     "metadata": {},
     "output_type": "execute_result"
    }
   ],
   "source": [
    "my_list[1]"
   ]
  },
  {
   "cell_type": "code",
   "execution_count": 75,
   "metadata": {},
   "outputs": [
    {
     "data": {
      "text/plain": [
       "4"
      ]
     },
     "execution_count": 75,
     "metadata": {},
     "output_type": "execute_result"
    }
   ],
   "source": [
    "len(my_list)"
   ]
  },
  {
   "cell_type": "code",
   "execution_count": 76,
   "metadata": {},
   "outputs": [
    {
     "data": {
      "text/plain": [
       "'aBba'"
      ]
     },
     "execution_count": 76,
     "metadata": {},
     "output_type": "execute_result"
    }
   ],
   "source": [
    "''.join(my_list)"
   ]
  },
  {
   "cell_type": "code",
   "execution_count": 77,
   "metadata": {},
   "outputs": [
    {
     "data": {
      "text/plain": [
       "'a?B?b?a'"
      ]
     },
     "execution_count": 77,
     "metadata": {},
     "output_type": "execute_result"
    }
   ],
   "source": [
    "\"?\".join(my_list)"
   ]
  },
  {
   "cell_type": "code",
   "execution_count": 78,
   "metadata": {},
   "outputs": [
    {
     "data": {
      "text/plain": [
       "'a+B+b+a'"
      ]
     },
     "execution_count": 78,
     "metadata": {},
     "output_type": "execute_result"
    }
   ],
   "source": [
    "'+'.join(my_list)"
   ]
  },
  {
   "cell_type": "code",
   "execution_count": 79,
   "metadata": {},
   "outputs": [
    {
     "data": {
      "text/plain": [
       "'amamma mia here we go againBmamma mia here we go againbmamma mia here we go againa'"
      ]
     },
     "execution_count": 79,
     "metadata": {},
     "output_type": "execute_result"
    }
   ],
   "source": [
    "\"mamma mia here we go again\".join(my_list)"
   ]
  },
  {
   "cell_type": "code",
   "execution_count": 80,
   "metadata": {},
   "outputs": [
    {
     "data": {
      "text/plain": [
       "['a', 'B', 'b', 'a']"
      ]
     },
     "execution_count": 80,
     "metadata": {},
     "output_type": "execute_result"
    }
   ],
   "source": [
    "my_list"
   ]
  },
  {
   "cell_type": "code",
   "execution_count": 81,
   "metadata": {},
   "outputs": [
    {
     "ename": "NameError",
     "evalue": "name 'my' is not defined",
     "output_type": "error",
     "traceback": [
      "\u001b[0;31m---------------------------------------------------------------------------\u001b[0m",
      "\u001b[0;31mNameError\u001b[0m                                 Traceback (most recent call last)",
      "\u001b[0;32m<ipython-input-81-c93c2c35c79f>\u001b[0m in \u001b[0;36m<module>\u001b[0;34m\u001b[0m\n\u001b[0;32m----> 1\u001b[0;31m \u001b[0mmy\u001b[0m\u001b[0;34m.\u001b[0m\u001b[0mlist\u001b[0m\u001b[0;34m.\u001b[0m\u001b[0mappend\u001b[0m\u001b[0;34m(\u001b[0m\u001b[0;34m\"F\"\u001b[0m\u001b[0;34m)\u001b[0m\u001b[0;34m\u001b[0m\u001b[0;34m\u001b[0m\u001b[0m\n\u001b[0m",
      "\u001b[0;31mNameError\u001b[0m: name 'my' is not defined"
     ]
    }
   ],
   "source": [
    "my.list.append(\"F\")"
   ]
  },
  {
   "cell_type": "code",
   "execution_count": 82,
   "metadata": {},
   "outputs": [],
   "source": [
    "my_list.append(\"F\")"
   ]
  },
  {
   "cell_type": "code",
   "execution_count": 83,
   "metadata": {},
   "outputs": [
    {
     "data": {
      "text/plain": [
       "['a', 'B', 'b', 'a', 'F']"
      ]
     },
     "execution_count": 83,
     "metadata": {},
     "output_type": "execute_result"
    }
   ],
   "source": [
    "my_list"
   ]
  },
  {
   "cell_type": "code",
   "execution_count": 84,
   "metadata": {},
   "outputs": [],
   "source": [
    "my_other_list = [1, 4, 9, \"abba\", \"B\"]"
   ]
  },
  {
   "cell_type": "code",
   "execution_count": 85,
   "metadata": {},
   "outputs": [],
   "source": [
    "my_list.append(my_other_list)"
   ]
  },
  {
   "cell_type": "code",
   "execution_count": 86,
   "metadata": {},
   "outputs": [
    {
     "data": {
      "text/plain": [
       "['a', 'B', 'b', 'a', 'F', [1, 4, 9, 'abba', 'B']]"
      ]
     },
     "execution_count": 86,
     "metadata": {},
     "output_type": "execute_result"
    }
   ],
   "source": [
    "my_list"
   ]
  },
  {
   "cell_type": "code",
   "execution_count": 87,
   "metadata": {},
   "outputs": [
    {
     "data": {
      "text/plain": [
       "6"
      ]
     },
     "execution_count": 87,
     "metadata": {},
     "output_type": "execute_result"
    }
   ],
   "source": [
    "len(my_list)"
   ]
  },
  {
   "cell_type": "code",
   "execution_count": 89,
   "metadata": {},
   "outputs": [
    {
     "data": {
      "text/plain": [
       "[1, 4, 9, 'abba', 'B']"
      ]
     },
     "execution_count": 89,
     "metadata": {},
     "output_type": "execute_result"
    }
   ],
   "source": [
    "my_list[-1]"
   ]
  },
  {
   "cell_type": "code",
   "execution_count": 90,
   "metadata": {},
   "outputs": [],
   "source": [
    "my_other_list = my_list[-1]"
   ]
  },
  {
   "cell_type": "code",
   "execution_count": 91,
   "metadata": {},
   "outputs": [
    {
     "data": {
      "text/plain": [
       "[1, 4, 9, 'abba', 'B']"
      ]
     },
     "execution_count": 91,
     "metadata": {},
     "output_type": "execute_result"
    }
   ],
   "source": [
    "my_other_list"
   ]
  },
  {
   "cell_type": "code",
   "execution_count": 92,
   "metadata": {},
   "outputs": [
    {
     "data": {
      "text/plain": [
       "'abba'"
      ]
     },
     "execution_count": 92,
     "metadata": {},
     "output_type": "execute_result"
    }
   ],
   "source": [
    "my_other_list[3]"
   ]
  },
  {
   "cell_type": "code",
   "execution_count": 93,
   "metadata": {},
   "outputs": [
    {
     "data": {
      "text/plain": [
       "'abba'"
      ]
     },
     "execution_count": 93,
     "metadata": {},
     "output_type": "execute_result"
    }
   ],
   "source": [
    "my_list[5][3]"
   ]
  },
  {
   "cell_type": "code",
   "execution_count": 94,
   "metadata": {},
   "outputs": [
    {
     "data": {
      "text/plain": [
       "'abba'"
      ]
     },
     "execution_count": 94,
     "metadata": {},
     "output_type": "execute_result"
    }
   ],
   "source": [
    "my_list[-1][3]"
   ]
  },
  {
   "cell_type": "code",
   "execution_count": 95,
   "metadata": {},
   "outputs": [
    {
     "data": {
      "text/plain": [
       "'abba'"
      ]
     },
     "execution_count": 95,
     "metadata": {},
     "output_type": "execute_result"
    }
   ],
   "source": [
    "my_list[-1][-2]"
   ]
  },
  {
   "cell_type": "code",
   "execution_count": 96,
   "metadata": {},
   "outputs": [],
   "source": [
    "my_list = ['a', 'B', 'b', 'a']"
   ]
  },
  {
   "cell_type": "code",
   "execution_count": 97,
   "metadata": {},
   "outputs": [],
   "source": [
    "my_list2 = [1, 4, 9, 'abba', 'B']"
   ]
  },
  {
   "cell_type": "code",
   "execution_count": 98,
   "metadata": {},
   "outputs": [],
   "source": [
    "my_list.extend(my_list2)"
   ]
  },
  {
   "cell_type": "code",
   "execution_count": 99,
   "metadata": {},
   "outputs": [
    {
     "data": {
      "text/plain": [
       "['a', 'B', 'b', 'a', 1, 4, 9, 'abba', 'B']"
      ]
     },
     "execution_count": 99,
     "metadata": {},
     "output_type": "execute_result"
    }
   ],
   "source": [
    "my_list"
   ]
  },
  {
   "cell_type": "code",
   "execution_count": 101,
   "metadata": {},
   "outputs": [
    {
     "data": {
      "text/plain": [
       "'abba'"
      ]
     },
     "execution_count": 101,
     "metadata": {},
     "output_type": "execute_result"
    }
   ],
   "source": []
  },
  {
   "cell_type": "code",
   "execution_count": 102,
   "metadata": {},
   "outputs": [
    {
     "data": {
      "text/plain": [
       "'b'"
      ]
     },
     "execution_count": 102,
     "metadata": {},
     "output_type": "execute_result"
    }
   ],
   "source": [
    "my_list.pop(2)"
   ]
  },
  {
   "cell_type": "code",
   "execution_count": 103,
   "metadata": {},
   "outputs": [
    {
     "data": {
      "text/plain": [
       "['a', 'B', 'a', 1, 4, 9, 'abba', 'B']"
      ]
     },
     "execution_count": 103,
     "metadata": {},
     "output_type": "execute_result"
    }
   ],
   "source": [
    "my_list"
   ]
  },
  {
   "cell_type": "code",
   "execution_count": 104,
   "metadata": {},
   "outputs": [],
   "source": [
    "my_list.remove(\"B\")"
   ]
  },
  {
   "cell_type": "code",
   "execution_count": 105,
   "metadata": {},
   "outputs": [
    {
     "data": {
      "text/plain": [
       "['a', 'a', 1, 4, 9, 'abba', 'B']"
      ]
     },
     "execution_count": 105,
     "metadata": {},
     "output_type": "execute_result"
    }
   ],
   "source": [
    "my_list"
   ]
  },
  {
   "cell_type": "code",
   "execution_count": 106,
   "metadata": {},
   "outputs": [],
   "source": [
    "my_list = ['a', 'B', 'a', 1, 4, 9, 'abba', 'B']"
   ]
  },
  {
   "cell_type": "code",
   "execution_count": 109,
   "metadata": {},
   "outputs": [],
   "source": [
    "my_set = {}"
   ]
  },
  {
   "cell_type": "code",
   "execution_count": 110,
   "metadata": {},
   "outputs": [
    {
     "data": {
      "text/plain": [
       "dict"
      ]
     },
     "execution_count": 110,
     "metadata": {},
     "output_type": "execute_result"
    }
   ],
   "source": [
    "type(my_set)"
   ]
  },
  {
   "cell_type": "code",
   "execution_count": 111,
   "metadata": {},
   "outputs": [
    {
     "data": {
      "text/plain": [
       "{1, 4, 9, 'B', 'a', 'abba'}"
      ]
     },
     "execution_count": 111,
     "metadata": {},
     "output_type": "execute_result"
    }
   ],
   "source": [
    "set(my_list)"
   ]
  },
  {
   "cell_type": "code",
   "execution_count": 112,
   "metadata": {},
   "outputs": [],
   "source": [
    "my_list_converted = set(my_list)"
   ]
  },
  {
   "cell_type": "code",
   "execution_count": 113,
   "metadata": {},
   "outputs": [
    {
     "data": {
      "text/plain": [
       "set"
      ]
     },
     "execution_count": 113,
     "metadata": {},
     "output_type": "execute_result"
    }
   ],
   "source": [
    "type(my_list_converted)"
   ]
  },
  {
   "cell_type": "code",
   "execution_count": 114,
   "metadata": {},
   "outputs": [
    {
     "data": {
      "text/plain": [
       "{1, 4, 9, 'B', 'a', 'abba'}"
      ]
     },
     "execution_count": 114,
     "metadata": {},
     "output_type": "execute_result"
    }
   ],
   "source": [
    "my_list_converted"
   ]
  },
  {
   "cell_type": "code",
   "execution_count": 115,
   "metadata": {},
   "outputs": [
    {
     "data": {
      "text/plain": [
       "['a', 1, 4, 9, 'abba', 'B']"
      ]
     },
     "execution_count": 115,
     "metadata": {},
     "output_type": "execute_result"
    }
   ],
   "source": [
    "list(my_list_converted)"
   ]
  },
  {
   "cell_type": "code",
   "execution_count": 116,
   "metadata": {},
   "outputs": [
    {
     "name": "stdout",
     "output_type": "stream",
     "text": [
      "['a', ['b', 'c', 'd'], 13, 5]\n"
     ]
    }
   ],
   "source": [
    "print([\"a\", [\"b\", \"c\", \"d\"], 13, 5, \"d\", \"key\"][:4])"
   ]
  },
  {
   "cell_type": "code",
   "execution_count": 117,
   "metadata": {},
   "outputs": [
    {
     "name": "stdout",
     "output_type": "stream",
     "text": [
      "['d', 'key']\n"
     ]
    }
   ],
   "source": [
    "print([\"a\", [\"b\", \"c\", \"d\"], 13, 5, \"d\", \"key\"][4:])"
   ]
  },
  {
   "cell_type": "markdown",
   "metadata": {},
   "source": [
    "Here I start with dictionaries"
   ]
  },
  {
   "cell_type": "code",
   "execution_count": 118,
   "metadata": {},
   "outputs": [],
   "source": [
    "tel = {'jack': 4098, 'rose': 4139}"
   ]
  },
  {
   "cell_type": "code",
   "execution_count": 119,
   "metadata": {},
   "outputs": [
    {
     "data": {
      "text/plain": [
       "dict"
      ]
     },
     "execution_count": 119,
     "metadata": {},
     "output_type": "execute_result"
    }
   ],
   "source": [
    "type(tel)"
   ]
  },
  {
   "cell_type": "code",
   "execution_count": 120,
   "metadata": {},
   "outputs": [],
   "source": [
    "my_dict = {}"
   ]
  },
  {
   "cell_type": "code",
   "execution_count": 121,
   "metadata": {},
   "outputs": [
    {
     "data": {
      "text/plain": [
       "dict"
      ]
     },
     "execution_count": 121,
     "metadata": {},
     "output_type": "execute_result"
    }
   ],
   "source": [
    "type(my_dict)"
   ]
  },
  {
   "cell_type": "code",
   "execution_count": null,
   "metadata": {},
   "outputs": [],
   "source": []
  }
 ],
 "metadata": {
  "kernelspec": {
   "display_name": "Python 3",
   "language": "python",
   "name": "python3"
  },
  "language_info": {
   "codemirror_mode": {
    "name": "ipython",
    "version": 3
   },
   "file_extension": ".py",
   "mimetype": "text/x-python",
   "name": "python",
   "nbconvert_exporter": "python",
   "pygments_lexer": "ipython3",
   "version": "3.7.3"
  }
 },
 "nbformat": 4,
 "nbformat_minor": 2
}
